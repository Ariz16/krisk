{
 "cells": [
  {
   "cell_type": "code",
   "execution_count": 1,
   "metadata": {
    "collapsed": true
   },
   "outputs": [],
   "source": [
    "import pandas as pd\n",
    "from krisk import init_notebook; init_notebook()\n",
    "\n",
    "import krisk.plot as plt"
   ]
  },
  {
   "cell_type": "code",
   "execution_count": 2,
   "metadata": {
    "collapsed": false
   },
   "outputs": [],
   "source": [
    "df = pd.read_csv('krisk/tests/data/gapminderDataFiveYear.txt', sep='\\t')"
   ]
  },
  {
   "cell_type": "code",
   "execution_count": 3,
   "metadata": {
    "collapsed": false
   },
   "outputs": [],
   "source": [
    "p = plt.bar(df[df.country == 'Afghanistan'],'year',y='lifeExp',how=None,annotate=True)"
   ]
  },
  {
   "cell_type": "code",
   "execution_count": 7,
   "metadata": {
    "collapsed": false
   },
   "outputs": [
    {
     "data": {
      "application/javascript": [
       "\n",
       "$('#697d8186-36c9-422f-89e6-3bf17251c98b').attr('id','697d8186-36c9-422f-89e6-3bf17251c98b'+'_old');\n",
       "element.append('<div id=\"697d8186-36c9-422f-89e6-3bf17251c98b\" style=\"width: 600px;height:400px;\"></div>');\n",
       "require(['echarts', 'dark', 'vintage', 'roma', 'shine', 'infographic', 'macarons'],function(echarts){\n",
       "    \n",
       "    function parseFunction(str){\n",
       "        return eval('(' + str + ')');\n",
       "    }\n",
       "    \n",
       "    var myChart = echarts.init(document.getElementById(\"697d8186-36c9-422f-89e6-3bf17251c98b\"),\"\");\n",
       "    \n",
       "    var option = {\n",
       "    \"xAxis\": {\n",
       "        \"data\": [\n",
       "            1952,\n",
       "            1957,\n",
       "            1962,\n",
       "            1967,\n",
       "            1972,\n",
       "            1977,\n",
       "            1982,\n",
       "            1987,\n",
       "            1992,\n",
       "            1997,\n",
       "            2002,\n",
       "            2007\n",
       "        ]\n",
       "    },\n",
       "    \"series\": [\n",
       "        {\n",
       "            \"type\": \"bar\",\n",
       "            \"data\": [\n",
       "                28.801,\n",
       "                30.332,\n",
       "                31.997,\n",
       "                34.02,\n",
       "                36.088,\n",
       "                38.438,\n",
       "                39.854,\n",
       "                40.822,\n",
       "                41.674,\n",
       "                41.763,\n",
       "                42.129,\n",
       "                43.828\n",
       "            ],\n",
       "            \"name\": \"year\",\n",
       "            \"label\": {\n",
       "                \"normal\": {\n",
       "                    \"show\": true,\n",
       "                    \"position\": \"top\"\n",
       "                }\n",
       "            }\n",
       "        }\n",
       "    ],\n",
       "    \"legend\": {\n",
       "        \"data\": []\n",
       "    },\n",
       "    \"yAxis\": {},\n",
       "    \"title\": {\n",
       "        \"text\": \"Hellow World\",\n",
       "        \"bottom\": \"auto\",\n",
       "        \"left\": \"center\"\n",
       "    },\n",
       "    \"toolbox\": {\n",
       "        \"align\": \"auto\",\n",
       "        \"orient\": \"horizontal\",\n",
       "        \"bottom\": \"auto\",\n",
       "        \"right\": \"5%\",\n",
       "        \"feature\": {\n",
       "            \"saveAsImage\": {\n",
       "                \"type\": \"png\",\n",
       "                \"show\": true,\n",
       "                \"title\": \"Download as Image\"\n",
       "            }\n",
       "        }\n",
       "    },\n",
       "    \"tooltip\": {\n",
       "        \"axisPointer\": {\n",
       "            \"type\": \"\"\n",
       "        }\n",
       "    }\n",
       "};\n",
       "    option['tooltip']['formatter'] = parseFunction(option['tooltip']['formatter']);\n",
       "    \n",
       "    //option['series'][0]['symbolSize'] = function (val){return val[2]*10;}\n",
       "    \n",
       "    \n",
       "    myChart.setOption(option);\n",
       "    //console.log(option);\n",
       "    \n",
       "    \n",
       "});\n"
      ],
      "text/plain": [
       "<krisk.chart.Chart at 0x1119e79e8>"
      ]
     },
     "execution_count": 7,
     "metadata": {},
     "output_type": "execute_result"
    }
   ],
   "source": [
    "p.set_title('Hellow World',x_pos='center')\n",
    "p.set_toolbox(save_format='png',x_pos='-5%')"
   ]
  },
  {
   "cell_type": "code",
   "execution_count": 16,
   "metadata": {
    "collapsed": false
   },
   "outputs": [],
   "source": [
    "p._option['yAxis']['scale'] = True"
   ]
  },
  {
   "cell_type": "code",
   "execution_count": 17,
   "metadata": {
    "collapsed": false
   },
   "outputs": [
    {
     "data": {
      "application/javascript": [
       "\n",
       "$('#b2e5958a-dfb1-4cb8-a086-f68ef681c4dd').attr('id','b2e5958a-dfb1-4cb8-a086-f68ef681c4dd'+'_old');\n",
       "element.append('<div id=\"b2e5958a-dfb1-4cb8-a086-f68ef681c4dd\" style=\"width: 600px;height:400px;\"></div>');\n",
       "require(['echarts', 'dark', 'vintage', 'roma', 'shine', 'infographic', 'macarons'],function(echarts){\n",
       "    \n",
       "    function parseFunction(str){\n",
       "        return eval('(' + str + ')');\n",
       "    }\n",
       "    \n",
       "    var myChart = echarts.init(document.getElementById(\"b2e5958a-dfb1-4cb8-a086-f68ef681c4dd\"),\"\");\n",
       "    \n",
       "    var option = {\n",
       "    \"tooltip\": {\n",
       "        \"axisPointer\": {\n",
       "            \"type\": \"\"\n",
       "        }\n",
       "    },\n",
       "    \"series\": [\n",
       "        {\n",
       "            \"type\": \"line\",\n",
       "            \"data\": [\n",
       "                28.801,\n",
       "                30.332,\n",
       "                31.997,\n",
       "                34.02,\n",
       "                36.088,\n",
       "                38.438,\n",
       "                39.854,\n",
       "                40.822,\n",
       "                41.674,\n",
       "                41.763,\n",
       "                42.129,\n",
       "                43.828\n",
       "            ],\n",
       "            \"name\": \"year\",\n",
       "            \"label\": {\n",
       "                \"normal\": {\n",
       "                    \"show\": true,\n",
       "                    \"position\": \"top\"\n",
       "                }\n",
       "            }\n",
       "        }\n",
       "    ],\n",
       "    \"legend\": {\n",
       "        \"data\": []\n",
       "    },\n",
       "    \"xAxis\": {\n",
       "        \"data\": [\n",
       "            1952,\n",
       "            1957,\n",
       "            1962,\n",
       "            1967,\n",
       "            1972,\n",
       "            1977,\n",
       "            1982,\n",
       "            1987,\n",
       "            1992,\n",
       "            1997,\n",
       "            2002,\n",
       "            2007\n",
       "        ]\n",
       "    },\n",
       "    \"title\": {\n",
       "        \"text\": \"\"\n",
       "    },\n",
       "    \"yAxis\": {\n",
       "        \"scale\": true\n",
       "    }\n",
       "};\n",
       "    option['tooltip']['formatter'] = parseFunction(option['tooltip']['formatter']);\n",
       "    \n",
       "    //option['series'][0]['symbolSize'] = function (val){return val[2]*10;}\n",
       "    \n",
       "    \n",
       "    myChart.setOption(option);\n",
       "    //console.log(option);\n",
       "    \n",
       "    \n",
       "});\n"
      ],
      "text/plain": [
       "<krisk.chart.Chart at 0x111960320>"
      ]
     },
     "execution_count": 17,
     "metadata": {},
     "output_type": "execute_result"
    }
   ],
   "source": [
    "p"
   ]
  },
  {
   "cell_type": "code",
   "execution_count": null,
   "metadata": {
    "collapsed": true
   },
   "outputs": [],
   "source": [
    "from collections"
   ]
  },
  {
   "cell_type": "code",
   "execution_count": 10,
   "metadata": {
    "collapsed": false
   },
   "outputs": [
    {
     "name": "stdout",
     "output_type": "stream",
     "text": [
      "Overwriting krisk/chart.py\n"
     ]
    }
   ],
   "source": [
    "%%file krisk/chart.py\n",
    "\n",
    "import uuid\n",
    "import json\n",
    "from copy import deepcopy\n",
    "from krisk.template import *\n",
    "from krisk.connections import get_paths\n",
    "\n",
    "paths = list(get_paths())\n",
    "\n",
    "\n",
    "class Chart():\n",
    "    def __init__(self,**kwargs):\n",
    "        self._chartId = str(uuid.uuid4())\n",
    "        self._option = deepcopy(OPTION_TEMPLATE)    \n",
    "        self._kwargs_chart_ = kwargs\n",
    "        self._theme = ''\n",
    "        \n",
    "        \n",
    "    # Color and Themes\n",
    "    \n",
    "    def set_theme(self,theme):\n",
    "        \"\"\"\n",
    "        Set the theme of the chart.\n",
    "        \n",
    "        Parameters\n",
    "        ----------\n",
    "\n",
    "        theme: str\n",
    "            {'dark','vintage','roma','shine','infographic','macarons'}, default None\n",
    "        \"\"\"\n",
    "        \n",
    "        \n",
    "        if theme not in THEMES:\n",
    "            raise AssertionError(\"Invalid theme name: {theme}\".format(theme=theme))\n",
    "            \n",
    "        \n",
    "        self._theme = theme\n",
    "        return self\n",
    "    \n",
    "    \n",
    "    def set_color(self,background='',palette=''):\n",
    "        \"\"\"\n",
    "        Set background and pallete color\n",
    "        \n",
    "        Parameters\n",
    "        ----------\n",
    "        \n",
    "        background: string\n",
    "            hex color\n",
    "        palettes: list of strings\n",
    "            list hex colors\n",
    "            \n",
    "        Returns\n",
    "        -------\n",
    "        Chart Object\n",
    "        \"\"\"\n",
    "        \n",
    "#         TODO:\n",
    "#         (p\n",
    "#         .set_color(background='something')\n",
    "#         .set_color(palettes=[something])) override background to None\n",
    "        \n",
    "#         Is this intended? Or should just these parameters made as separate methods?\n",
    "        \n",
    "        self._option.pop('color',None)\n",
    "        self._option.pop('graph',None) #Need further analyze graph color\n",
    "        self._option.pop('backgroundColor',None)\n",
    "        \n",
    "        if background:\n",
    "            self._option['backgroundColor'] = background\n",
    "        if palettes:\n",
    "            self._option['color'] = palettes\n",
    "            self._option['graph'] = {'color':palettes}\n",
    "        \n",
    "        \n",
    "        return self\n",
    "        \n",
    "        \n",
    "        \n",
    "    # ---------------------------------------------------------------------------\n",
    "    \n",
    "    # Tooltip\n",
    "    \n",
    "    def set_tooltip_style(self,trigger='item',axis_pointer='line',trigger_on='mousemove',\n",
    "                          font_style='normal',font_family='sans-serif',font_size=14):\n",
    "        \n",
    "        \"\"\"Set Tooltip options.\n",
    "        \n",
    "        Parameters\n",
    "        ----------\n",
    "        trigger: {'item',axis}, default 'item'\n",
    "            When tooltip should be triggered. Default to item\n",
    "        axis_pointer: {'shadow','cross','line'}, default 'line'\n",
    "            Effect of pointing the axis.\n",
    "        trigger_on: {'mousemove','click'}, default 'mousemove'\n",
    "            Tooltip trigger\n",
    "        font_style: string hex, default 'normal'\n",
    "            Font Style\n",
    "        font_family: sting, default to 'sans-serif'.\n",
    "            Tooltip font familty\n",
    "        font_size: int, default 14.\n",
    "            Tooltip font size\n",
    "        \n",
    "        \"\"\"\n",
    "        \n",
    "        \n",
    "        self._option['tooltip']['trigger'] = trigger\n",
    "        self._option['tooltip']['axisPointer']['type'] = axis_pointer\n",
    "        self._option['tooltip']['triggerOn'] = trigger_on\n",
    "        \n",
    "        self._option['tooltip']['fontStyle'] = font_style\n",
    "        self._option['tooltip']['fontFamily'] = font_family\n",
    "        self._option['tooltip']['fontSize'] = font_size\n",
    "        \n",
    "        return self\n",
    "    \n",
    "    \n",
    "    def set_tooltip_format(self,columns,override=False,\n",
    "                           formatter = \"'{key}' + '：' + {value} + '{unit}' +'<br>'\"):\n",
    "        \"\"\"\n",
    "        Set tooltip format. Currently only Scatter plot supported because it's the only that keep the\n",
    "        data as is.\n",
    "        \n",
    "        Parameters\n",
    "        ----------\n",
    "        \n",
    "        columns: list of string or list of tuples\n",
    "            if list of strings, retrieve the columns value for the tooltip\n",
    "            if list of tuples, will be represented as key,unit for the format\n",
    "        override: Boolean, default to False\n",
    "            provide custom Javascript function\n",
    "        formatter: string,\n",
    "            Format key,value,unit that will be rendered in the tooltip\n",
    "        \n",
    "        Returns\n",
    "        -------\n",
    "        Chart Object\n",
    "        \n",
    "        Examples\n",
    "        --------\n",
    "        \n",
    "        \"\"\"\n",
    "        \n",
    "        if self._kwargs_chart_['type'] != 'scatter':\n",
    "            raise TypeError('Chart Type not supported')\n",
    "        else:\n",
    "            f_columns = []\n",
    "            for c in columns:\n",
    "                if isinstance(c,str):\n",
    "                    key,unit =c, ' '\n",
    "                elif isinstance(c,tuple):\n",
    "                    key,unit = c\n",
    "                else:\n",
    "                    raise TypeError('Columns type not supported')\n",
    "\n",
    "                idx = self._kwargs_chart_['columns'].index(key)\n",
    "                f_columns.append(formatter\n",
    "                                 .format(key=key,\n",
    "                                         value='value[{idx}]'.format(idx=idx),\n",
    "                                         unit=unit))\n",
    "\n",
    "            formatter_strings =  \"\"\"function (obj) {{\n",
    "                                    var value = obj.value;\n",
    "                                    return {f_columns};\n",
    "                                }}\"\"\".format(f_columns='+'.join(f_columns))\n",
    "\n",
    "            self._option['tooltip']['formatter'] = formatter_strings\n",
    "            \n",
    "\n",
    "            return self\n",
    "    \n",
    "    # ----------------------------------------------------------------------\n",
    "    \n",
    "    def get_option(self):\n",
    "        \"\"\"Return Chart option that will be injected to Option Javascript object\"\"\"\n",
    "\n",
    "        return self._option\n",
    "    \n",
    "    # ----------------------------------------------------------------------\n",
    "    \n",
    "    # Set Title, Legend and Toolbox\n",
    "    \n",
    "    def __set_object_pos(self,obj,x,y):\n",
    "        \"\"\"Set x,y coordinate of an object in chart layout\"\"\"\n",
    "        \n",
    "        if x.startswith('-'):\n",
    "            self._option[obj]['right'] = x[1:]\n",
    "        else:\n",
    "            self._option[obj]['left'] = x\n",
    "            \n",
    "        if y.startswith('-'):\n",
    "            self._option[obj]['top'] = y[1:]\n",
    "        else:\n",
    "            self._option[obj]['bottom'] = y\n",
    "    \n",
    "    def set_title(self, title, x_pos='auto', y_pos='auto'):\n",
    "        \"\"\"Set title for the plot.\n",
    "        \n",
    "        The coordinate is started at bottom left corner. If x_pos and y_pos started\n",
    "        at negative values, then the coordinate started at upper right corner.\n",
    "        \n",
    "        Parameters\n",
    "        ----------\n",
    "        title: str\n",
    "            Title of the chart.\n",
    "        x_pos: str, {'auto', left', 'center', 'right', 'i%'}, default to 'auto'\n",
    "        y_pos: str, {'auto', top', 'center', 'bottom', 'i%'}, default to 'auto'\n",
    "        \n",
    "        \"\"\"\n",
    "        \n",
    "        self._option['title']['text'] = title\n",
    "        self.__set_object_pos('title',x_pos,y_pos)\n",
    "        \n",
    "        return self\n",
    "    \n",
    "    \n",
    "    def set_legend(self, align='auto', orient='horizontal', x_pos='auto', y_pos='auto'):\n",
    "        \"\"\"\n",
    "        Set legend style.\n",
    "        \n",
    "        The coordinate is started at bottom left corner. If x_pos and y_pos started\n",
    "        at negative values, then the coordinate started at upper right corner.\n",
    "        \n",
    "        Parameters\n",
    "        ----------\n",
    "        \n",
    "        align: str, {'auto','left','right'}, default to 'auto'\n",
    "        orient: str, {'horizontal','vertical'} default to 'horizontal'\n",
    "        x_pos: str, {'auto', left', 'center', 'right', 'i%'}, default to 'auto'\n",
    "        y_pos: str, {'auto', top', 'center', 'bottom', 'i%'}, default to 'auto'\n",
    "        \n",
    "        Returns\n",
    "        -------\n",
    "        Chart Object\n",
    "        \"\"\"\n",
    "        \n",
    "        self._option['legend']['align'] = align\n",
    "        self._option['legend']['orient'] = orient\n",
    "        self.__set_object_pos('legend',x_pos,y_pos)\n",
    "    \n",
    "        return self\n",
    "    \n",
    "    def set_toolbox(self, save_format=None, restore=None, data_view=None, data_zoom=None,\n",
    "                    magic_type=None, brush=None,\n",
    "                    align='auto', orient='horizontal', x_pos='auto', y_pos='auto'):\n",
    "        \"\"\" Set Toolbox for the Chart\n",
    "        \n",
    "        Parameters\n",
    "        ----------\n",
    "        \n",
    "        save_format: {None, 'png','jpeg'} default to None\n",
    "        magic_type: ['line', 'bar', 'stack', 'tiled'], default to None\n",
    "        data_zoom\n",
    "        \n",
    "        align: str, {'auto','left','right'}, default to 'auto'\n",
    "        orient: str, {'horizontal','vertical'} default to 'horizontal'\n",
    "        x_pos: str, {'auto', left', 'center', 'right', 'i%'}, default to 'auto'\n",
    "        y_pos: str, {'auto', top', 'center', 'bottom', 'i%'}, default to 'auto'\n",
    "        \n",
    "        Returns\n",
    "        -------\n",
    "        Chart Object\n",
    "        \n",
    "        \"\"\"\n",
    "    \n",
    "        self._option['toolbox'] = {'feature': {}}\n",
    "        d_title = {\n",
    "            'dataView': 'Table View',\n",
    "            'magicType': 'Chart Options',\n",
    "            'restore' : 'Reset',\n",
    "            'saveAsImage' : 'Download as Image',\n",
    "            'dataZoom' : 'Zoom',\n",
    "            'brush' : 'Brush'}\n",
    "        \n",
    "        def set_tool(tool,setter,val):\n",
    "            if val is not None:\n",
    "                self._option['toolbox']['feature'][tool] = {}\n",
    "                self._option['toolbox']['feature'][tool]['title'] = d_title[tool]\n",
    "                self._option['toolbox']['feature'][tool]['show'] = True\n",
    "                self._option['toolbox']['feature'][tool][setter] = val\n",
    "        \n",
    "        set_tool('saveAsImage','type',save_format)\n",
    "        set_tool('dataView','readOnly',data_view)\n",
    "        set_tool('magicType','type',magic_type)\n",
    "        set_tool('brush','type',brush)\n",
    "        set_tool('restore','show',restore)\n",
    "        set_tool('dataZoom','show',data_zoom)\n",
    "        \n",
    "        self._option['toolbox']['align'] = align\n",
    "        self._option['toolbox']['orient'] = orient\n",
    "        self.__set_object_pos('toolbox',x_pos,y_pos)\n",
    "    \n",
    "        return self\n",
    "    \n",
    "    \n",
    "    def flip_axes(self):\n",
    "        \"\"\"Flip the axes to make it horizontal\"\"\"\n",
    "        \n",
    "        self._axes_swapped = not self._axes_swapped\n",
    "        self._option['xAxis'],self._option['yAxis'] = self._option['yAxis'],self._option['xAxis']\n",
    "        return self\n",
    "    \n",
    "    # Events\n",
    "    def on_event(self,event,handler):\n",
    "        \"\"\"\n",
    "        Parameter:\n",
    "        event: {'click','dblclick','mousedown','mouseup','mouseover','mouseout','globalout'}, default None\n",
    "            In which event the function should be triggered\n",
    "        handler: function\n",
    "            The trigger function\n",
    "        \"\"\"\n",
    "        \n",
    "        events = ['click','dblclick','mousedown','mouseup','mouseover','mouseout','globalout']\n",
    "        if event not in events:\n",
    "            raise AssertionError('Invalid event name: %s'% event)\n",
    "            \n",
    "        self._events[event] = handler.__name__\n",
    "        return self\n",
    "    \n",
    "    \n",
    "    \n",
    "    # --------------------------------------------------------------------------\n",
    "    \n",
    "    # Replot Functions\n",
    "    def resync_data(self,data):\n",
    "        \"\"\"\n",
    "        Update data but still using the same chart option.\n",
    "        Currently just update the current cell it exist, but not the chart option\n",
    "        itself.\n",
    "        \n",
    "        Parameters\n",
    "        ----------\n",
    "        data: pd.DataFrame\n",
    "         \n",
    "        \"\"\"\n",
    "        option = make_chart(data,**self._kwargs_chart_)._option\n",
    "        return Javascript(self._get_resync_option_strings(option))\n",
    "    \n",
    "    def replot(self,chart):\n",
    "        \"\"\"Replot entire chart to its current cell\"\"\"\n",
    "        return Javascript(self._get_resync_option_strings(chart._option))\n",
    "    \n",
    "    def _get_resync_option_strings(self,option):\n",
    "        \"\"\"Resync Chart option\"\"\"\n",
    "        \n",
    "        events = [EVENTS_TEMPLATE.format(event=e,function=self._events[e]) for e in self._events]\n",
    "        OPTION_KWS = dict(\n",
    "            requires=paths.__repr__(),\n",
    "            chartId=self._chartId,\n",
    "            theme=self._theme,\n",
    "            option=json.dumps(option,indent=4),\n",
    "            events='\\n'.join(events)\n",
    "        )\n",
    "        return RESET_OPTION.format(**OPTION_KWS)\n",
    "    \n",
    "    \n",
    "    def _repr_javascript_(self):\n",
    "        \"\"\"Embedding the result of the plot to Jupyter\"\"\"\n",
    "        return (APPEND_ELEMENT.format(id=self._chartId))+\\\n",
    "                (self._get_resync_option_strings(self._option))\n",
    "    # ----------------------------------------------------------------------\n",
    "    \n",
    "    # Saving chart option\n",
    "    \n",
    "    def to_json(self,path):\n",
    "        \"Save Chart option\"\n",
    "        json.dump(self._option,open(path,'w'))\n",
    "        \n",
    "    \n",
    "    def to_html(self,path):\n",
    "        \"Save full html file\"\n",
    "        save_html(self._repr_javascript_(),path)\n",
    "    \n",
    "    \n",
    "    _axes_swapped = True\n",
    "    _kwargs_chart_ = {}\n",
    "    _events = {}\n",
    "        \n",
    "    "
   ]
  },
  {
   "cell_type": "code",
   "execution_count": 7,
   "metadata": {
    "collapsed": false
   },
   "outputs": [
    {
     "name": "stdout",
     "output_type": "stream",
     "text": [
      "Overwriting krisk/plot.py\n"
     ]
    }
   ],
   "source": [
    "%%file krisk/plot.py\n",
    "\n",
    "from krisk.make_chart import make_chart\n",
    "\n",
    "def bar(df,x,y=None,category=None,how='count',stacked=False,\n",
    "        annotate=None,**kwargs):\n",
    "    \n",
    "    kwargs['x'] = x\n",
    "    kwargs['y'] = y\n",
    "    kwargs['category'] = category\n",
    "    kwargs['how'] = how\n",
    "    kwargs['type'] = 'bar'\n",
    "    kwargs['stacked'] = stacked\n",
    "    kwargs['annotate'] = 'top' if annotate == True else annotate\n",
    "    \n",
    "    return make_chart(df,**kwargs)\n",
    "\n",
    "def line(df,x,y=None,category=None,how=None,stacked=False,area=False,\n",
    "         annotate=None,**kwargs):\n",
    "    \n",
    "    kwargs['x'] = x\n",
    "    kwargs['y'] = y\n",
    "    kwargs['category'] = category\n",
    "    kwargs['how'] = how\n",
    "    kwargs['type'] = 'line'\n",
    "    kwargs['stacked'] = stacked\n",
    "    kwargs['area'] = area\n",
    "    kwargs['annotate'] = 'top' if annotate == True else annotate\n",
    "    \n",
    "    return make_chart(df,**kwargs)\n",
    "\n",
    "def hist(df,x,category=None,bins=10,normed=False,stacked=False,\n",
    "         annotate=None,**kwargs):\n",
    "    \n",
    "    kwargs['x'] = x\n",
    "    kwargs['category'] = category\n",
    "    kwargs['bins'] = bins\n",
    "    kwargs['type'] = 'hist'\n",
    "    kwargs['normed'] = normed\n",
    "    kwargs['stacked'] = stacked\n",
    "    kwargs['annotate'] = 'top' if annotate == True else annotate\n",
    "    \n",
    "    return make_chart(df,**kwargs)\n",
    "\n",
    "def scatter(df,x,y,size=None,category=None,**kwargs):\n",
    "    \n",
    "    kwargs['x'] = x\n",
    "    kwargs['y'] = y\n",
    "    kwargs['category'] = category\n",
    "    kwargs['size'] = size\n",
    "    #kwargs['saturate'] = saturate #TODO: Fix saturate\n",
    "    kwargs['type'] = 'scatter'\n",
    "    \n",
    "    return make_chart(df,**kwargs)"
   ]
  },
  {
   "cell_type": "code",
   "execution_count": 10,
   "metadata": {
    "collapsed": false
   },
   "outputs": [
    {
     "name": "stdout",
     "output_type": "stream",
     "text": [
      "Overwriting krisk/template.py\n"
     ]
    }
   ],
   "source": [
    "%%file krisk/template.py\n",
    "\n",
    "def save_html(script,path):\n",
    "    \n",
    "    import os\n",
    "    template_path = os.path.dirname(__file__)\n",
    "\n",
    "    from jinja2 import Template\n",
    "    html_template = open(os.path.join(template_path,'template.html'),'r')\n",
    "    script = script.replace('element','$(\"body\")')\n",
    "    f = open(path,'w')\n",
    "    f.write(Template(html_template.read()).render(SCRIPT=script))\n",
    "    f.close()\n",
    "    html_template.close()\n",
    "\n",
    "\n",
    "RESET_OPTION = \"\"\"\n",
    "require({requires},function(echarts){{\n",
    "    \n",
    "    function parseFunction(str){{\n",
    "        return eval('(' + str + ')');\n",
    "    }}\n",
    "    \n",
    "    var myChart = echarts.init(document.getElementById(\"{chartId}\"),\"{theme}\");\n",
    "    \n",
    "    var option = {option};\n",
    "    option['tooltip']['formatter'] = parseFunction(option['tooltip']['formatter']);\n",
    "    \n",
    "    //option['series'][0]['symbolSize'] = function (val){{return val[2]*10;}}\n",
    "    \n",
    "    \n",
    "    myChart.setOption(option);\n",
    "    //console.log(option);\n",
    "    {events}\n",
    "    \n",
    "}});\n",
    "\"\"\"\n",
    "\n",
    "\n",
    "APPEND_ELEMENT = \"\"\"\n",
    "$('#{id}').attr('id','{id}'+'_old');\n",
    "element.append('<div id=\"{id}\" style=\"width: 600px;height:400px;\"></div>');\"\"\"\n",
    "\n",
    "\n",
    "OPTION_TEMPLATE = {\n",
    "        'title': {\n",
    "            'text': ''\n",
    "        },\n",
    "        'tooltip': {'axisPointer':{'type':''}},\n",
    "        'legend': {\n",
    "            'data':[]\n",
    "        },\n",
    "        'xAxis': {\n",
    "            'data': []\n",
    "        },\n",
    "        'yAxis': {},\n",
    "        'series': []\n",
    "    }\n",
    "\n",
    "\n",
    "EVENTS_TEMPLATE = \"\"\"\n",
    "myChart.on('{event}',function(params){{\n",
    "\n",
    "    var d_params  = {{'series':{{'name':params.seriesName,\n",
    "                                 'index':params.seriesIndex}},\n",
    "                      'data':{{'value':params.value,\n",
    "                               'index':params.dataIndex,\n",
    "                               'name':params.name}}\n",
    "    }}\n",
    "    \n",
    "    console.log('parameters extracted: ');\n",
    "    console.log(d_params);\n",
    "    \n",
    "    // Create new cell and execute function passed with parameters\n",
    "    var nb = Jupyter.notebook;\n",
    "    nb.insert_cell_below();\n",
    "    nb.select_next();\n",
    "    \n",
    "    var json_strings = JSON.stringify(d_params);\n",
    "\n",
    "    var cell = nb.get_selected_cell();\n",
    "    var code_input = \"{function}(json.loads('\" + json_strings + \"'))\";\n",
    "    console.log(\"Executing code: \" + code_input);\n",
    "    cell.set_text(code_input);\n",
    "    cell.execute();\n",
    "    \n",
    "    \n",
    "    // Immediately delete the cell after execute\n",
    "    nb.delete_cell();\n",
    "    \n",
    "}});\n",
    "\"\"\""
   ]
  },
  {
   "cell_type": "code",
   "execution_count": 9,
   "metadata": {
    "collapsed": false
   },
   "outputs": [
    {
     "name": "stdout",
     "output_type": "stream",
     "text": [
      "Overwriting krisk/make_chart.py\n"
     ]
    }
   ],
   "source": [
    "%%file krisk/make_chart.py\n",
    "\n",
    "from krisk.chart import Chart\n",
    "from copy import deepcopy\n",
    "\n",
    "def round_list(arr):\n",
    "    try:\n",
    "        return arr.values.round(3).tolist() # Numeric Array\n",
    "    except TypeError:\n",
    "        try:\n",
    "            return arr.unique().tolist() #String Array\n",
    "        except AttributeError:\n",
    "            return (arr.apply(lambda x: x.values.round(3) #Dataframe\n",
    "                            if x.dtype.name.startswith('float') \n",
    "                            else x)\n",
    "                    .values.tolist())\n",
    "    \n",
    "                \n",
    "def make_chart(df,**kwargs):\n",
    "    \n",
    "    def insert_series_on(f):\n",
    "\n",
    "        if category:\n",
    "            #Iterate and append Data for every category\n",
    "            for cat, subset in df.groupby(category):\n",
    "                cat = str(cat)\n",
    "                insert_data_to_series(f,subset,cat)\n",
    "                c._option['legend']['data'].append(cat)\n",
    "        else:\n",
    "            insert_data_to_series(f,df)\n",
    "    \n",
    "    \n",
    "    def insert_data_to_series(f,df,cat=None):\n",
    "        data = f(df)\n",
    "        series = deepcopy(elem_series)\n",
    "        series['data'] = round_list(data)\n",
    "        series['type'] = kwargs['type']\n",
    "        series['name'] = cat if cat else x\n",
    "        c._option['series'].append(series)\n",
    "        \n",
    "    \n",
    "    c = Chart(**kwargs)\n",
    "    \n",
    "    elem_series = {\n",
    "            'name': '',\n",
    "            'type': kwargs['type'],\n",
    "            'data': []}\n",
    "    \n",
    "    x = kwargs['x']\n",
    "    y = kwargs.get('y')\n",
    "    category = kwargs['category']\n",
    "    \n",
    "    \n",
    "    def bar_line_hist_condition():\n",
    "        \"\"\"Provide stacked,annotate, area for bar line hist\"\"\"\n",
    "        series = c._option['series']\n",
    "\n",
    "        d_annotate = {'normal':{'show':True,\n",
    "                                'position':'top'}}\n",
    "\n",
    "        if category and kwargs['stacked'] == True:\n",
    "            for s in series:\n",
    "                s['stack'] = category\n",
    "\n",
    "                if kwargs['type'] == 'line' and kwargs['area'] == True:\n",
    "                    s['areaStyle'] = {'normal': {}}\n",
    "\n",
    "                if kwargs['annotate'] == 'all':\n",
    "\n",
    "                    if kwargs['type'] == 'bar':\n",
    "                        d_ant = deepcopy(d_annotate)\n",
    "                        d_ant['normal']['position'] = 'inside'\n",
    "                        s['label'] = deepcopy(d_ant)\n",
    "                    else:\n",
    "                        s['label'] = deepcopy(d_annotate)\n",
    "                        \n",
    "        if kwargs['annotate'] == 'top':\n",
    "            series[-1]['label'] = d_annotate\n",
    "    \n",
    "    \n",
    "    if kwargs['type'] in ['bar','line']:\n",
    "       \n",
    "        \n",
    "        \n",
    "        def get_bar_line_data(df):\n",
    "            c._option['xAxis']['data'] = round_list(df[x].drop_duplicates())\n",
    "#             c._option['yAxis']['scale'] = True\n",
    "            \n",
    "            if y is None:\n",
    "                data = df[x].value_counts()\n",
    "            else:\n",
    "                data = (df[y]\n",
    "                        if kwargs['how'] is None else\n",
    "                        df.groupby(x)[y].aggregate(kwargs['how']))\n",
    "                    \n",
    "                \n",
    "#             data = (df[x].value_counts()\n",
    "#                     if y is None else\n",
    "#                     df.groupby(x)[y].aggregate(kwargs['how']))\n",
    "            \n",
    "            return data\n",
    "            \n",
    "        \n",
    "        insert_series_on(get_bar_line_data)\n",
    "        bar_line_hist_condition()\n",
    "            \n",
    "    elif kwargs['type'] == 'hist':\n",
    "        kwargs['type'] = 'bar'\n",
    "        \n",
    "        \n",
    "        def get_hist_data(df):\n",
    "            \n",
    "            y_val,x_val = np.histogram(df[x],\n",
    "                                       bins=kwargs['bins'],\n",
    "                                       normed=kwargs['normed'])\n",
    "            data = pd.Series(y_val)\n",
    "            bins = x_val.astype(int).tolist()\n",
    "            c._option['xAxis']['data'] = bins\n",
    "            \n",
    "            return data\n",
    "        \n",
    "        insert_series_on(get_hist_data)\n",
    "        bar_line_hist_condition()\n",
    "            \n",
    "    elif kwargs['type'] == 'scatter':\n",
    "        \n",
    "        c._option['xAxis'] = {'type': 'value',\n",
    "                              'name': x,\n",
    "                              'max': int(df[x].max())}\n",
    "        c._option['yAxis'] = {'type': 'value',\n",
    "                              'name': y,\n",
    "                              'max': int(df[y].max())}\n",
    "        c._option['visualMap'] = []\n",
    "        \n",
    "        \n",
    "        \n",
    "        cols = [x,y]\n",
    "        size = kwargs['size']\n",
    "        if size is not None:\n",
    "            vmap_template_size = {\n",
    "                                    'show': False,\n",
    "                                    'dimension': 2,\n",
    "                                    'min': 0,\n",
    "                                    'max': 250,\n",
    "                                    'precision': 0.1,\n",
    "                                    'inRange': {\n",
    "                                        'symbolSize': [10, 70]\n",
    "                                    }\n",
    "                                }\n",
    "            vmap_size = deepcopy(vmap_template_size)\n",
    "            vmap_size['min'] = df[size].min()\n",
    "            vmap_size['max'] = df[size].max()\n",
    "#             vmap_size['inRange']['symbolSize'] = [30,100]\n",
    "            c._option['visualMap'].append(vmap_size)\n",
    "            cols.append(size)\n",
    "        \n",
    "            \n",
    "        #TODO: Fix Saturate\n",
    "#          saturate = kwargs['saturate']\n",
    "#         if saturate is not None:\n",
    "#             vmap_saturate = deepcopy(visual_map_template)\n",
    "#             vmap_saturate['min'] = float(df[saturate].min())\n",
    "#             vmap_saturate['max'] = float(df[saturate].max())\n",
    "#             vmap_saturate['inRange']['colorLightness'] = [1,0.5]\n",
    "#             c._option['visualMap'].append(vmap_saturate)\n",
    "#             cols.append(saturate)\n",
    "\n",
    "        columns = cols+df.columns.difference(cols).tolist()\n",
    "        c._kwargs_chart_['columns'] = columns\n",
    "        \n",
    "        def get_scatter_data(df):\n",
    "            data = df[columns]\n",
    "#             print(columns)\n",
    "            return data\n",
    "        \n",
    "        insert_series_on(get_scatter_data)\n",
    "    \n",
    "        \n",
    "            \n",
    "    return c"
   ]
  },
  {
   "cell_type": "code",
   "execution_count": 8,
   "metadata": {
    "collapsed": false
   },
   "outputs": [],
   "source": [
    "p.to_html('../chart_scatter2.html')"
   ]
  },
  {
   "cell_type": "code",
   "execution_count": 9,
   "metadata": {
    "collapsed": false
   },
   "outputs": [
    {
     "data": {
      "text/plain": [
       "'/Volumes/Marice-Dev/Testing/echarts/pandas-echarts'"
      ]
     },
     "execution_count": 9,
     "metadata": {},
     "output_type": "execute_result"
    }
   ],
   "source": [
    "pwd"
   ]
  },
  {
   "cell_type": "code",
   "execution_count": null,
   "metadata": {
    "collapsed": true
   },
   "outputs": [],
   "source": []
  },
  {
   "cell_type": "code",
   "execution_count": 9,
   "metadata": {
    "collapsed": false
   },
   "outputs": [],
   "source": [
    "# def init_notebook():\n",
    "#     return Javascript(\"\"\"\n",
    "#             require.config({\n",
    "#                   paths: {\n",
    "#                       echarts: '//echarts.baidu.com/dist/echarts.min',\n",
    "#                       dark: '//echarts.baidu.com/asset/theme/dark',\n",
    "#                       vintage: '//echarts.baidu.com/asset/theme/vintage',\n",
    "#                       roma: '//echarts.baidu.com/asset/theme/roma',\n",
    "#                       shine: '//echarts.baidu.com/asset/theme/shine',\n",
    "#                       infographic: '//echarts.baidu.com/asset/theme/infographic',\n",
    "#                       macarons: '//echarts.baidu.com/asset/theme/macarons'\n",
    "                      \n",
    "#                   }\n",
    "#                 });\"\"\")"
   ]
  },
  {
   "cell_type": "code",
   "execution_count": 7,
   "metadata": {
    "collapsed": false
   },
   "outputs": [
    {
     "ename": "NameError",
     "evalue": "name 'scatter' is not defined",
     "output_type": "error",
     "traceback": [
      "\u001b[0;31m---------------------------------------------------------------------------\u001b[0m",
      "\u001b[0;31mNameError\u001b[0m                                 Traceback (most recent call last)",
      "\u001b[0;32m<ipython-input-7-5110846a69a1>\u001b[0m in \u001b[0;36m<module>\u001b[0;34m()\u001b[0m\n\u001b[0;32m----> 1\u001b[0;31m \u001b[0mp\u001b[0m \u001b[0;34m=\u001b[0m \u001b[0mscatter\u001b[0m\u001b[0;34m(\u001b[0m\u001b[0mdf\u001b[0m\u001b[0;34m[\u001b[0m\u001b[0mdf\u001b[0m\u001b[0;34m.\u001b[0m\u001b[0myear\u001b[0m \u001b[0;34m==\u001b[0m \u001b[0;36m2007\u001b[0m\u001b[0;34m]\u001b[0m\u001b[0;34m,\u001b[0m\u001b[0;34m'lifeExp'\u001b[0m\u001b[0;34m,\u001b[0m\u001b[0;34m'pop'\u001b[0m\u001b[0;34m)\u001b[0m\u001b[0;34m\u001b[0m\u001b[0m\n\u001b[0m\u001b[1;32m      2\u001b[0m \u001b[0mp\u001b[0m\u001b[0;34m.\u001b[0m\u001b[0mset_tooltip_format\u001b[0m\u001b[0;34m(\u001b[0m\u001b[0;34m[\u001b[0m\u001b[0;34m'country'\u001b[0m\u001b[0;34m]\u001b[0m\u001b[0;34m)\u001b[0m\u001b[0;34m\u001b[0m\u001b[0m\n",
      "\u001b[0;31mNameError\u001b[0m: name 'scatter' is not defined"
     ]
    }
   ],
   "source": [
    "p = scatter(df[df.year == 2007],'lifeExp','pop')\n",
    "p.set_tooltip_format(['country'])"
   ]
  },
  {
   "cell_type": "code",
   "execution_count": 25,
   "metadata": {
    "collapsed": true
   },
   "outputs": [],
   "source": [
    "p.to_html('chart-me3.html')"
   ]
  },
  {
   "cell_type": "code",
   "execution_count": null,
   "metadata": {
    "collapsed": true
   },
   "outputs": [],
   "source": [
    "# %load krisk/chart.py\n",
    "\n",
    "import uuid\n",
    "import json\n",
    "from copy import deepcopy\n",
    "from krisk.template import *\n",
    "from krisk.connections import get_paths\n",
    "\n",
    "paths = get_paths()\n",
    "\n",
    "class Chart():\n",
    "    def __init__(self,**kwargs):\n",
    "        self._chartId = str(uuid.uuid4())\n",
    "        self._option = deepcopy(OPTION_TEMPLATE)    \n",
    "        self._kwargs_chart_ = kwargs\n",
    "        self._theme = ''\n",
    "        \n",
    "        \n",
    "    # Color and Themes\n",
    "    \n",
    "    def set_theme(self,theme):\n",
    "        \"\"\"\n",
    "        Set the theme of the chart.\n",
    "        \n",
    "        Parameters\n",
    "        ----------\n",
    "\n",
    "        theme: str\n",
    "            {'dark','vintage','roma','shine','infographic','macarons'}, default None\n",
    "        \"\"\"\n",
    "        \n",
    "        \n",
    "        if theme not in THEMES:\n",
    "            raise AssertionError(\"Invalid theme name: {theme}\".format(theme=theme))\n",
    "            \n",
    "        \n",
    "        self._theme = theme\n",
    "        return self\n",
    "    \n",
    "    \n",
    "    def set_color(self,background='',palette=''):\n",
    "        \"\"\"\n",
    "        Set background and pallete color\n",
    "        \n",
    "        Parameters\n",
    "        ----------\n",
    "        \n",
    "        background: string\n",
    "            hex color\n",
    "        palettes: list of strings\n",
    "            list hex colors\n",
    "            \n",
    "        Returns\n",
    "        -------\n",
    "        Chart Object\n",
    "        \"\"\"\n",
    "        \n",
    "#         TODO:\n",
    "#         (p\n",
    "#         .set_color(background='something')\n",
    "#         .set_color(palettes=[something])) override background to None\n",
    "        \n",
    "#         Is this intended? Or should just these parameters made as separate methods?\n",
    "        \n",
    "        self._option.pop('color',None)\n",
    "        self._option.pop('graph',None) #Need further analyze graph color\n",
    "        self._option.pop('backgroundColor',None)\n",
    "        \n",
    "        if background:\n",
    "            self._option['backgroundColor'] = background\n",
    "        if palettes:\n",
    "            self._option['color'] = palettes\n",
    "            self._option['graph'] = {'color':palettes}\n",
    "        \n",
    "        \n",
    "        return self\n",
    "        \n",
    "        \n",
    "        \n",
    "    # ---------------------------------------------------------------------------\n",
    "    \n",
    "    # Tooltip\n",
    "    \n",
    "    def set_tooltip_style(self,trigger='item',axis_pointer='line',trigger_on='mousemove',\n",
    "                          font_style='normal',font_family='sans-serif',font_size=14):\n",
    "        \n",
    "        \"\"\"Set Tooltip options.\n",
    "        \n",
    "        Parameters\n",
    "        ----------\n",
    "        trigger: {'item',axis}, default 'item'\n",
    "            When tooltip should be triggered. Default to item\n",
    "        axis_pointer: {'shadow','cross','line'}, default 'line'\n",
    "            Effect of pointing the axis.\n",
    "        trigger_on: {'mousemove','click'}, default 'mousemove'\n",
    "            Tooltip trigger\n",
    "        font_style: string hex, default 'normal'\n",
    "            Font Style\n",
    "        font_family: sting, default to 'sans-serif'.\n",
    "            Tooltip font familty\n",
    "        font_size: int, default 14.\n",
    "            Tooltip font size\n",
    "        \n",
    "        \"\"\"\n",
    "        \n",
    "        \n",
    "        self._option['tooltip']['trigger'] = trigger\n",
    "        self._option['tooltip']['axisPointer']['type'] = axis_pointer\n",
    "        self._option['tooltip']['triggerOn'] = trigger_on\n",
    "        \n",
    "        self._option['tooltip']['fontStyle'] = font_style\n",
    "        self._option['tooltip']['fontFamily'] = font_family\n",
    "        self._option['tooltip']['fontSize'] = font_size\n",
    "        \n",
    "        return self\n",
    "    \n",
    "    \n",
    "    def set_tooltip_format(self,columns,override=False,\n",
    "                           formatter = \"'{key}' + '：' + {value} + '{unit}' +'<br>'\"):\n",
    "        \"\"\"\n",
    "        Set tooltip format. Currently only Scatter plot supported because it's the only that keep the\n",
    "        data as is.\n",
    "        \n",
    "        Parameters\n",
    "        ----------\n",
    "        \n",
    "        columns: list of string or list of tuples\n",
    "            if list of strings, retrieve the columns value for the tooltip\n",
    "            if list of tuples, will be represented as key,unit for the format\n",
    "        override: Boolean, default to False\n",
    "            provide custom Javascript function\n",
    "        formatter: string,\n",
    "            Format key,value,unit that will be rendered in the tooltip\n",
    "        \n",
    "        Returns\n",
    "        -------\n",
    "        Chart Object\n",
    "        \n",
    "        Examples\n",
    "        --------\n",
    "        \n",
    "        \"\"\"\n",
    "        \n",
    "        if self._kwargs_chart_['type'] != 'scatter':\n",
    "            raise TypeError('Chart Type not supported')\n",
    "        else:\n",
    "            f_columns = []\n",
    "            for c in columns:\n",
    "                if isinstance(c,str):\n",
    "                    key,unit =c, ' '\n",
    "                elif isinstance(c,tuple):\n",
    "                    key,unit = c\n",
    "                else:\n",
    "                    raise TypeError('Columns type not supported')\n",
    "\n",
    "                idx = self._kwargs_chart_['columns'].index(key)\n",
    "                f_columns.append(formatter\n",
    "                                 .format(key=key,\n",
    "                                         value='value[{idx}]'.format(idx=idx),\n",
    "                                         unit=unit))\n",
    "\n",
    "            formatter_strings =  \"\"\"function (obj) {{\n",
    "                                    var value = obj.value;\n",
    "                                    return {f_columns};\n",
    "                                }}\"\"\".format(f_columns='+'.join(f_columns))\n",
    "\n",
    "            self._option['tooltip']['formatter'] = formatter_strings\n",
    "            \n",
    "\n",
    "            return self\n",
    "    \n",
    "    # ----------------------------------------------------------------------\n",
    "    \n",
    "    def get_option(self):\n",
    "        \"\"\"Return Chart option that will be injected to Option Javascript object\"\"\"\n",
    "\n",
    "        return self._option\n",
    "    \n",
    "    \n",
    "    def set_title(self,title,x_pos='auto',y_pos='auto'):\n",
    "        \"\"\"Set title for the plot.\n",
    "        \n",
    "        The coordinate is started at bottom left corner. If x_pos and y_pos started\n",
    "        at negative values, then the coordinate started at upper right corner.\n",
    "        \n",
    "        Parameters\n",
    "        ----------\n",
    "        title: str\n",
    "            Title of the chart.\n",
    "        x_pos: str, {'auto', left', 'center', 'right', 'i%'}, default to 'auto'\n",
    "        y_pos: str, {'auto', top', 'center', 'bottom', 'i%'}, default to 'auto'\n",
    "        \n",
    "        \"\"\"\n",
    "        \n",
    "        self._option['title']['text'] = title\n",
    "        \n",
    "        if x_pos.startswith('-'):\n",
    "            self._option['title']['right'] = x_pos[1:]\n",
    "        else:\n",
    "            self._option['title']['left'] = x_pos\n",
    "            \n",
    "        if y_pos.startswith('-'):\n",
    "            self._option['title']['top'] = y_pos[1:]\n",
    "        else:\n",
    "            self._option['title']['bottom'] = y_pos\n",
    "        \n",
    "        \n",
    "        return self\n",
    "    \n",
    "    \n",
    "    def set_legend(self,align='auto',orient='horizontal',\n",
    "                   x_pos='auto',y_pos='auto'):\n",
    "        \"\"\"\n",
    "        Set legend style.\n",
    "        \n",
    "        The coordinate is started at bottom left corner. If x_pos and y_pos started\n",
    "        at negative values, then the coordinate started at upper right corner.\n",
    "        \n",
    "        Parameters\n",
    "        ----------\n",
    "        \n",
    "        align: str, {'auto','left','right'}, default to 'auto'\n",
    "        orient: str, {'horizontal','vertical'} default to 'horizontal'\n",
    "        x_pos: str, {'auto', left', 'center', 'right', 'i%'}, default to 'auto'\n",
    "        y_pos: str, {'auto', top', 'center', 'bottom', 'i%'}, default to 'auto'\n",
    "        \n",
    "        \n",
    "        Returns\n",
    "        -------\n",
    "        Chart Object\n",
    "        \n",
    "        \n",
    "        \"\"\"\n",
    "        \n",
    "        self._option['legend']['align'] = align\n",
    "        self._option['legend']['orient'] = orient\n",
    "        \n",
    "        if x_pos.startswith('-'):\n",
    "            self._option['legend']['right'] = x_pos[1:]\n",
    "        else:\n",
    "            self._option['legend']['left'] = x_pos\n",
    "            \n",
    "        if y_pos.startswith('-'):\n",
    "            self._option['legend']['top'] = y_pos[1:]\n",
    "        else:\n",
    "            self._option['legend']['bottom'] = y_pos\n",
    "            \n",
    "            \n",
    "        return self\n",
    "    \n",
    "    \n",
    "    def flip_axes(self):\n",
    "        \"\"\"Flip the axes to make it horizontal\"\"\"\n",
    "        \n",
    "        self._axes_swapped = not self._axes_swapped\n",
    "        self._option['xAxis'],self._option['yAxis'] = self._option['yAxis'],self._option['xAxis']\n",
    "        return self\n",
    "    \n",
    "    # Events\n",
    "    def on_event(self,event,handler):\n",
    "        \"\"\"\n",
    "        Parameter:\n",
    "        event: {'click','dblclick','mousedown','mouseup','mouseover','mouseout','globalout'}, default None\n",
    "            In which event the function should be triggered\n",
    "        handler: function\n",
    "            The trigger function\n",
    "        \"\"\"\n",
    "        \n",
    "        events = ['click','dblclick','mousedown','mouseup','mouseover','mouseout','globalout']\n",
    "        if event not in events:\n",
    "            raise AssertionError('Invalid event name: %s'% event)\n",
    "            \n",
    "        self._events[event] = handler.__name__\n",
    "        return self\n",
    "    \n",
    "    \n",
    "    \n",
    "    # --------------------------------------------------------------------------\n",
    "    \n",
    "    # Replot Functions\n",
    "    def resync_data(self,data):\n",
    "        \"\"\"\n",
    "        Update data but still using the same chart option.\n",
    "        Currently just update the current cell it exist, but not the chart option\n",
    "        itself.\n",
    "        \n",
    "        Parameters\n",
    "        ----------\n",
    "        data: pd.DataFrame\n",
    "         \n",
    "        \"\"\"\n",
    "        option = make_chart(data,**self._kwargs_chart_)._option\n",
    "        return Javascript(self._get_resync_option_strings(option))\n",
    "    \n",
    "    def replot(self,chart):\n",
    "        \"\"\"Replot entire chart to its current cell\"\"\"\n",
    "        return Javascript(self._get_resync_option_strings(chart._option))\n",
    "    \n",
    "    def _get_resync_option_strings(self,option):\n",
    "        \"\"\"Resync Chart option\"\"\"\n",
    "        \n",
    "        events = [EVENTS_TEMPLATE.format(event=e,function=self._events[e]) for e in self._events]\n",
    "        OPTION_KWS = dict(\n",
    "            requires=list(paths).__repr__(),\n",
    "            chartId=self._chartId,\n",
    "            theme=self._theme,\n",
    "            option=json.dumps(option,indent=4),\n",
    "            events='\\n'.join(events)\n",
    "        )\n",
    "        return RESET_OPTION.format(**OPTION_KWS)\n",
    "    \n",
    "    \n",
    "    def _repr_javascript_(self):\n",
    "        \"\"\"Embedding the result of the plot to Jupyter\"\"\"\n",
    "        return (APPEND_ELEMENT.format(id=self._chartId))+\\\n",
    "                (self._get_resync_option_strings(self._option))\n",
    "    # ----------------------------------------------------------------------\n",
    "    \n",
    "    # Saving chart option\n",
    "    def to_json(self,path):\n",
    "        \"Save Chart option\"\n",
    "        \n",
    "        json.dump(self._option,open(path,'w'))\n",
    "        \n",
    "    \n",
    "    def to_html(self,path):\n",
    "        \"Save full html file\"\n",
    "        save_html(self._repr_javascript_(),path)\n",
    "    \n",
    "    \n",
    "    _axes_swapped = True\n",
    "    _kwargs_chart_ = {}\n",
    "    _events = {}\n",
    "        \n",
    "    "
   ]
  },
  {
   "cell_type": "code",
   "execution_count": null,
   "metadata": {
    "collapsed": true
   },
   "outputs": [],
   "source": []
  },
  {
   "cell_type": "code",
   "execution_count": null,
   "metadata": {
    "collapsed": true
   },
   "outputs": [],
   "source": []
  },
  {
   "cell_type": "code",
   "execution_count": 254,
   "metadata": {
    "collapsed": false
   },
   "outputs": [],
   "source": [
    "df['Pop'] = df['pop'] / 1000000"
   ]
  },
  {
   "cell_type": "code",
   "execution_count": 271,
   "metadata": {
    "collapsed": false
   },
   "outputs": [
    {
     "data": {
      "text/plain": [
       "1318683096.0"
      ]
     },
     "execution_count": 271,
     "metadata": {},
     "output_type": "execute_result"
    }
   ],
   "source": [
    "df['pop'].max()"
   ]
  },
  {
   "cell_type": "code",
   "execution_count": 272,
   "metadata": {
    "collapsed": false
   },
   "outputs": [
    {
     "data": {
      "text/plain": [
       "1318.683096"
      ]
     },
     "execution_count": 272,
     "metadata": {},
     "output_type": "execute_result"
    }
   ],
   "source": [
    "df['Pop'].max()"
   ]
  },
  {
   "cell_type": "code",
   "execution_count": 277,
   "metadata": {
    "collapsed": true
   },
   "outputs": [],
   "source": [
    "p.to_html('scatter3.html')"
   ]
  },
  {
   "cell_type": "code",
   "execution_count": 276,
   "metadata": {
    "collapsed": false
   },
   "outputs": [],
   "source": [
    "p = scatter(df[df.year == 2007],'lifeExp','gdpPercap',size='pop')\n",
    "# p.set_tooltip_format(['country','lifeExp','continent'])"
   ]
  },
  {
   "cell_type": "code",
   "execution_count": 235,
   "metadata": {
    "collapsed": false
   },
   "outputs": [
    {
     "ename": "AssertionError",
     "evalue": "",
     "output_type": "error",
     "traceback": [
      "\u001b[0;31m---------------------------------------------------------------------------\u001b[0m",
      "\u001b[0;31mAssertionError\u001b[0m                            Traceback (most recent call last)",
      "\u001b[0;32m<ipython-input-235-574c64d50655>\u001b[0m in \u001b[0;36m<module>\u001b[0;34m()\u001b[0m\n\u001b[1;32m     35\u001b[0m \u001b[0mtest_line\u001b[0m\u001b[0;34m(\u001b[0m\u001b[0;34m)\u001b[0m\u001b[0;34m\u001b[0m\u001b[0m\n\u001b[1;32m     36\u001b[0m \u001b[0mtest_hist\u001b[0m\u001b[0;34m(\u001b[0m\u001b[0;34m)\u001b[0m\u001b[0;34m\u001b[0m\u001b[0m\n\u001b[0;32m---> 37\u001b[0;31m \u001b[0mtest_scatter\u001b[0m\u001b[0;34m(\u001b[0m\u001b[0;34m)\u001b[0m\u001b[0;34m\u001b[0m\u001b[0m\n\u001b[0m",
      "\u001b[0;32m<ipython-input-235-574c64d50655>\u001b[0m in \u001b[0;36mtest_scatter\u001b[0;34m()\u001b[0m\n\u001b[1;32m     30\u001b[0m     \u001b[0mp\u001b[0m \u001b[0;34m=\u001b[0m \u001b[0mscatter\u001b[0m\u001b[0;34m(\u001b[0m\u001b[0mdf\u001b[0m\u001b[0;34m[\u001b[0m\u001b[0mdf\u001b[0m\u001b[0;34m.\u001b[0m\u001b[0myear\u001b[0m \u001b[0;34m==\u001b[0m \u001b[0;36m1952\u001b[0m\u001b[0;34m]\u001b[0m\u001b[0;34m,\u001b[0m\u001b[0;34m'lifeExp'\u001b[0m\u001b[0;34m,\u001b[0m\u001b[0;34m'gdpPercap'\u001b[0m\u001b[0;34m,\u001b[0m\u001b[0msize\u001b[0m\u001b[0;34m=\u001b[0m\u001b[0;34m'pop'\u001b[0m\u001b[0;34m,\u001b[0m\u001b[0mcategory\u001b[0m\u001b[0;34m=\u001b[0m\u001b[0;34m'continent'\u001b[0m\u001b[0;34m)\u001b[0m\u001b[0;34m\u001b[0m\u001b[0m\n\u001b[1;32m     31\u001b[0m \u001b[0;34m\u001b[0m\u001b[0m\n\u001b[0;32m---> 32\u001b[0;31m     \u001b[0;32massert\u001b[0m \u001b[0mp\u001b[0m\u001b[0;34m.\u001b[0m\u001b[0m_option\u001b[0m \u001b[0;34m==\u001b[0m \u001b[0mtrue_option\u001b[0m\u001b[0;34m\u001b[0m\u001b[0m\n\u001b[0m\u001b[1;32m     33\u001b[0m \u001b[0;34m\u001b[0m\u001b[0m\n\u001b[1;32m     34\u001b[0m \u001b[0mtest_bar\u001b[0m\u001b[0;34m(\u001b[0m\u001b[0;34m)\u001b[0m\u001b[0;34m\u001b[0m\u001b[0m\n",
      "\u001b[0;31mAssertionError\u001b[0m: "
     ]
    }
   ],
   "source": [
    "# %%file pandas-echarts/tests/test_option.py\n",
    "\n",
    "\n",
    "df = pd.read_csv('gapminderDataFiveYear.txt',sep='\\t')\n",
    "\n",
    "def test_bar():\n",
    "    \n",
    "    true_option = json.load(open('pandas-echarts/tests/data/bar_option.json','r'))\n",
    "    p = bar(df,'lifeExp',y='pop',category='continent',how='mean',stacked=True)\n",
    "    \n",
    "    assert p._option == true_option\n",
    "    \n",
    "def test_line():\n",
    "    \n",
    "    true_option = json.load(open('pandas-echarts/tests/data/line_option.json','r'))\n",
    "    p = line(df,'year',y='lifeExp',category='continent',how='mean',stacked=True,area=True)\n",
    "    \n",
    "    assert p._option == true_option\n",
    "    \n",
    "def test_hist():\n",
    "    \n",
    "    true_option = json.load(open('pandas-echarts/tests/data/hist_option.json','r'))\n",
    "    p = hist(df,'lifeExp',category='continent',bins=100,normed=True,stacked=True)\n",
    "    \n",
    "    assert p._option == true_option\n",
    "    \n",
    "def test_scatter():\n",
    "    \n",
    "    true_option = json.load(open('pandas-echarts/tests/data/scatter_option.json','r'))\n",
    "    p = scatter(df[df.year == 1952],'lifeExp','gdpPercap',size='pop',category='continent')\n",
    "    \n",
    "    assert p._option == true_option\n",
    "\n",
    "test_bar()\n",
    "test_line()\n",
    "test_hist()\n",
    "test_scatter()"
   ]
  },
  {
   "cell_type": "code",
   "execution_count": null,
   "metadata": {
    "collapsed": true
   },
   "outputs": [],
   "source": []
  },
  {
   "cell_type": "code",
   "execution_count": null,
   "metadata": {
    "collapsed": true
   },
   "outputs": [],
   "source": []
  },
  {
   "cell_type": "code",
   "execution_count": null,
   "metadata": {
    "collapsed": true
   },
   "outputs": [],
   "source": []
  },
  {
   "cell_type": "code",
   "execution_count": null,
   "metadata": {
    "collapsed": true
   },
   "outputs": [],
   "source": []
  },
  {
   "cell_type": "code",
   "execution_count": 39,
   "metadata": {
    "collapsed": true
   },
   "outputs": [],
   "source": [
    "from bokeh import colors\n",
    "from bokeh import palettes"
   ]
  },
  {
   "cell_type": "code",
   "execution_count": 23,
   "metadata": {
    "collapsed": true
   },
   "outputs": [],
   "source": [
    "true_option = json.load(open('pandas-echarts/tests/data/scatter_option.json','r'))"
   ]
  },
  {
   "cell_type": "code",
   "execution_count": 29,
   "metadata": {
    "collapsed": false
   },
   "outputs": [],
   "source": [
    "d = {}"
   ]
  },
  {
   "cell_type": "code",
   "execution_count": 30,
   "metadata": {
    "collapsed": true
   },
   "outputs": [],
   "source": [
    "d['label'] = {'name':'hellow'}"
   ]
  },
  {
   "cell_type": "code",
   "execution_count": null,
   "metadata": {
    "collapsed": true
   },
   "outputs": [],
   "source": []
  },
  {
   "cell_type": "code",
   "execution_count": null,
   "metadata": {
    "collapsed": true
   },
   "outputs": [],
   "source": []
  },
  {
   "cell_type": "code",
   "execution_count": null,
   "metadata": {
    "collapsed": true
   },
   "outputs": [],
   "source": []
  },
  {
   "cell_type": "code",
   "execution_count": 131,
   "metadata": {
    "collapsed": false
   },
   "outputs": [],
   "source": [
    "def foo(params):\n",
    "    \n",
    "    d.resync_data(df)\n",
    "    return \"Hello World\""
   ]
  },
  {
   "cell_type": "code",
   "execution_count": 132,
   "metadata": {
    "collapsed": false,
    "run_control": {
     "marked": false
    },
    "scrolled": true
   },
   "outputs": [
    {
     "data": {
      "application/javascript": [
       "\n",
       "$('#ec5f9646-0f4f-4f03-9217-532c4a631e91').attr('id','ec5f9646-0f4f-4f03-9217-532c4a631e91'+'_old');\n",
       "element.append('<div id=\"ec5f9646-0f4f-4f03-9217-532c4a631e91\" style=\"width: 600px;height:400px;\"></div>');\n",
       "require(['echarts', 'dark', 'vintage', 'roma', 'shine', 'infographic', 'macarons'],function(echarts){\n",
       "    var myChart = echarts.init(document.getElementById(\"ec5f9646-0f4f-4f03-9217-532c4a631e91\"),\"\");\n",
       "    myChart.setOption({\"tooltip\": {\"axisPointer\": {\"type\": \"\"}}, \"legend\": {\"data\": []}, \"yAxis\": {}, \"title\": {\"text\": \"\"}, \"xAxis\": {\"data\": [\"Asia\", \"Europe\", \"Africa\", \"Americas\", \"Oceania\"]}, \"series\": [{\"type\": \"bar\", \"data\": [624, 396, 360, 300, 24], \"name\": \"continent\"}]});\n",
       "    \n",
       "myChart.on('mouseover',function(params){\n",
       "\n",
       "    var d_params  = {'series':{'name':params.seriesName,'index':params.seriesIndex},\n",
       "    'data':{'value':params.value,'index':params.dataIndex,'name':params.name}\n",
       "    }\n",
       "    \n",
       "    console.log('data extracted: ');\n",
       "    console.log(d_params);\n",
       "    \n",
       "    // Create new Cell and execute function passed with parameters\n",
       "    var nb = Jupyter.notebook;\n",
       "    nb.insert_cell_below();\n",
       "    nb.select_next();\n",
       "    \n",
       "    var json_strings = JSON.stringify(d_params);\n",
       "\n",
       "    var cell = nb.get_selected_cell();\n",
       "    var code_input = \"foo(json.loads('\" + json_strings + \"'))\";\n",
       "    console.log(\"Executing code: \" + code_input);\n",
       "    cell.set_text(code_input);\n",
       "    cell.execute();\n",
       "    \n",
       "    \n",
       "    // Immediately delete the cell after execute\n",
       "    nb.delete_cell();\n",
       "    \n",
       "});\n",
       "\n",
       "\n",
       "myChart.on('click',function(params){\n",
       "\n",
       "    var d_params  = {'series':{'name':params.seriesName,'index':params.seriesIndex},\n",
       "    'data':{'value':params.value,'index':params.dataIndex,'name':params.name}\n",
       "    }\n",
       "    \n",
       "    console.log('data extracted: ');\n",
       "    console.log(d_params);\n",
       "    \n",
       "    // Create new Cell and execute function passed with parameters\n",
       "    var nb = Jupyter.notebook;\n",
       "    nb.insert_cell_below();\n",
       "    nb.select_next();\n",
       "    \n",
       "    var json_strings = JSON.stringify(d_params);\n",
       "\n",
       "    var cell = nb.get_selected_cell();\n",
       "    var code_input = \"foo(json.loads('\" + json_strings + \"'))\";\n",
       "    console.log(\"Executing code: \" + code_input);\n",
       "    cell.set_text(code_input);\n",
       "    cell.execute();\n",
       "    \n",
       "    \n",
       "    // Immediately delete the cell after execute\n",
       "    nb.delete_cell();\n",
       "    \n",
       "});\n",
       "\n",
       "});\n"
      ],
      "text/plain": [
       "<__main__.Chart at 0x106509eb8>"
      ]
     },
     "execution_count": 132,
     "metadata": {},
     "output_type": "execute_result"
    }
   ],
   "source": [
    "d = bar(df,x='continent')\n",
    "d.on_event('mouseover',foo)"
   ]
  },
  {
   "cell_type": "code",
   "execution_count": 48,
   "metadata": {
    "collapsed": false
   },
   "outputs": [
    {
     "data": {
      "text/plain": [
       "'4.1.1'"
      ]
     },
     "execution_count": 48,
     "metadata": {},
     "output_type": "execute_result"
    }
   ],
   "source": [
    "ipywidgets.__version__"
   ]
  },
  {
   "cell_type": "code",
   "execution_count": 85,
   "metadata": {
    "collapsed": false
   },
   "outputs": [],
   "source": [
    "# %%file krisk/tests/test_make_chart.py\n",
    "import pytest\n",
    "\n",
    "@pytest.fixture\n",
    "def chart_gapminder():\n",
    "    import pandas as pd\n",
    "    #from krisk import make_chart\n",
    "    df = pd.read_csv('../echarts/gapminderDataFiveYear.txt',sep='\\t')\n",
    "    return (line(df,x='year',category='continent',y='lifeExp',how='mean',area=True,stacked=True)\n",
    "             .set_theme('vintage')\n",
    "             .set_tooltip())\n",
    "\n",
    "\n",
    "def test_option(chart_gapminder):\n",
    "    import json\n",
    "    json_path ='krisk/tests/json_gapminder_line_year_continent_lifeExp_mean_area_stacked.json'\n",
    "    option = json.load(open(json_path,'r'))\n",
    "    assert option == chart_gapminder._option\n",
    "    \n",
    "test_option(chart_gapminder())"
   ]
  },
  {
   "cell_type": "markdown",
   "metadata": {},
   "source": [
    "# TODO\n",
    "\n",
    "Priority:\n",
    "\n",
    "1. Legend and Title DONE\n",
    "2. Tooltip DONE? Scatter"
   ]
  },
  {
   "cell_type": "markdown",
   "metadata": {},
   "source": [
    "to_html DONE"
   ]
  },
  {
   "cell_type": "markdown",
   "metadata": {},
   "source": [
    "set_toolbox"
   ]
  },
  {
   "cell_type": "markdown",
   "metadata": {},
   "source": [
    "set_figsize()"
   ]
  },
  {
   "cell_type": "markdown",
   "metadata": {},
   "source": [
    "refactor insert series DONE?"
   ]
  },
  {
   "cell_type": "markdown",
   "metadata": {},
   "source": [
    "set item_style"
   ]
  },
  {
   "cell_type": "markdown",
   "metadata": {},
   "source": [
    "self._data_columns = df.columns\n",
    "if update:\n",
    "    self._data.columns != df.columns"
   ]
  },
  {
   "cell_type": "markdown",
   "metadata": {},
   "source": [
    "set annotate = True DONE"
   ]
  },
  {
   "cell_type": "markdown",
   "metadata": {},
   "source": [
    "set ticks DONE?"
   ]
  },
  {
   "cell_type": "markdown",
   "metadata": {},
   "source": [
    "set_color(background=None,palletes=None) DONE?"
   ]
  },
  {
   "cell_type": "markdown",
   "metadata": {},
   "source": [
    " set_title(title,pos=('center','top')/'left and set_legend\n",
    "\n",
    "    'best'         : 0, (only implemented for axes legends)\n",
    "    'upper right'  : 1,\n",
    "    'upper left'   : 2,\n",
    "    'lower left'   : 3,\n",
    "    'lower right'  : 4,\n",
    "    'right'        : 5,\n",
    "    'center left'  : 6,\n",
    "    'center right' : 7,\n",
    "    'lower center' : 8,\n",
    "    'upper center' : 9,\n",
    "    'center'       : 10,"
   ]
  },
  {
   "cell_type": "markdown",
   "metadata": {},
   "source": [
    "## bar\n",
    "* http://echarts.baidu.com/demo.html#bar-y-category DONE\n",
    "* http://echarts.baidu.com/demo.html#bar-y-category-stack DONE\n",
    "\n",
    "## scatter\n",
    "* http://echarts.baidu.com/demo.html#scatter-aqi-color\n",
    "* http://echarts.baidu.com/demo.html#scatter-world-population\n",
    "* http://echarts.baidu.com/demo.html#scatter-life-expectancy-timeline\n",
    "\n",
    "## line\n",
    "* http://echarts.baidu.com/demo.html#dynamic-data2 DONE\n",
    "* http://echarts.baidu.com/demo.html#line-stack DONE\n",
    "* http://echarts.baidu.com/demo.html#area-stack DONE"
   ]
  },
  {
   "cell_type": "markdown",
   "metadata": {
    "collapsed": false
   },
   "source": [
    "## Histogram hist with category\n",
    "\n",
    "* http://echarts.baidu.com/demo.html#bar-animation-delay\n",
    "* http://echarts.baidu.com/demo.html#mix-line-bar DONE\n",
    "* http://echarts.baidu.com/demo.html#bar1(np.histogram, lose the markline and markpoint) DONE"
   ]
  },
  {
   "cell_type": "markdown",
   "metadata": {},
   "source": [
    "### POTENTIALLY BUG\n",
    "\n",
    "* callback for loading echarts"
   ]
  },
  {
   "cell_type": "markdown",
   "metadata": {},
   "source": [
    "# Testing Echarts"
   ]
  },
  {
   "cell_type": "code",
   "execution_count": 193,
   "metadata": {
    "collapsed": false
   },
   "outputs": [
    {
     "data": {
      "application/javascript": [
       "$('#main').remove()\n",
       "element.append('<div id=\"main\" style=\"width: 600px;height:400px;\"></div>');\n",
       "require(['echarts'],function(echarts){\n",
       "// 基于准备好的dom，初始化echarts实例\n",
       "    \n",
       "        var colorPalette = ['#d87c7c','#919e8b', '#d7ab82',  '#6e7074','#61a0a8','#efa18d', '#787464', '#cc7e63', '#724e58', '#4b565b'];\n",
       "        echarts.registerTheme('vintage', {\n",
       "            color: colorPalette,\n",
       "            backgroundColor: '#fef8ef',\n",
       "            graph: {\n",
       "                color: colorPalette\n",
       "            }\n",
       "        });\n",
       "\n",
       "        var myChart = echarts.init(document.getElementById('main'),'dark');\n",
       "\n",
       "        // 指定图表的配置项和数据\n",
       "        var option = {\n",
       "            title: {\n",
       "                text: 'ECharts 入门示例'\n",
       "            },\n",
       "            tooltip: {},\n",
       "            legend: {\n",
       "                data:['销量']\n",
       "            },\n",
       "            xAxis: {\n",
       "                data: [\"衬衫\",\"羊毛衫\",\"雪纺衫\",\"裤子\",\"高跟鞋\",\"袜子\"]\n",
       "            },\n",
       "            yAxis: {},\n",
       "            series: [{\n",
       "                name: '销量',\n",
       "                type: 'bar',\n",
       "                data: [5, 20, 36, 10, 10, 20]\n",
       "            }]\n",
       "        };\n",
       "\n",
       "        // 使用刚指定的配置项和数据显示图表。\n",
       "        myChart.setOption(option);\n",
       "});\n",
       "\n",
       "\"Hello World\""
      ],
      "text/plain": [
       "<IPython.core.display.Javascript object>"
      ]
     },
     "metadata": {},
     "output_type": "display_data"
    }
   ],
   "source": [
    "%%javascript\n",
    "$('#main').remove()\n",
    "element.append('<div id=\"main\" style=\"width: 600px;height:400px;\"></div>');\n",
    "require(['echarts'],function(echarts){\n",
    "// 基于准备好的dom，初始化echarts实例\n",
    "    \n",
    "        var colorPalette = ['#d87c7c','#919e8b', '#d7ab82',  '#6e7074','#61a0a8','#efa18d', '#787464', '#cc7e63', '#724e58', '#4b565b'];\n",
    "        echarts.registerTheme('vintage', {\n",
    "            color: colorPalette,\n",
    "            backgroundColor: '#fef8ef',\n",
    "            graph: {\n",
    "                color: colorPalette\n",
    "            }\n",
    "        });\n",
    "\n",
    "        var myChart = echarts.init(document.getElementById('main'),'dark');\n",
    "\n",
    "        // 指定图表的配置项和数据\n",
    "        var option = {\n",
    "            title: {\n",
    "                text: 'ECharts 入门示例'\n",
    "            },\n",
    "            tooltip: {},\n",
    "            legend: {\n",
    "                data:['销量']\n",
    "            },\n",
    "            xAxis: {\n",
    "                data: [\"衬衫\",\"羊毛衫\",\"雪纺衫\",\"裤子\",\"高跟鞋\",\"袜子\"]\n",
    "            },\n",
    "            yAxis: {},\n",
    "            series: [{\n",
    "                name: '销量',\n",
    "                type: 'bar',\n",
    "                data: [5, 20, 36, 10, 10, 20]\n",
    "            }]\n",
    "        };\n",
    "\n",
    "        // 使用刚指定的配置项和数据显示图表。\n",
    "        myChart.setOption(option);\n",
    "});\n",
    "\n",
    "\"Hello World\""
   ]
  },
  {
   "cell_type": "code",
   "execution_count": null,
   "metadata": {
    "collapsed": false
   },
   "outputs": [],
   "source": [
    "# import json\n",
    "# option = {\n",
    "#         'title': {\n",
    "#             'text': 'ECharts 入门示例'\n",
    "#         },\n",
    "#         'tooltip': {},\n",
    "#         'legend': {\n",
    "#             'data':['销量']\n",
    "#         },\n",
    "#         'xAxis': {\n",
    "#             'data': [\"衬衫\",\"羊毛衫\",\"雪纺衫\",\"裤子\",\"高跟鞋\",\"袜子\"]\n",
    "#         },\n",
    "#         'yAxis': {},\n",
    "#         'series': [{\n",
    "#             'name': '销量',\n",
    "#             'type': 'bar',\n",
    "#             'data': [20, 20, 36, 10, 10, 20]\n",
    "#         }]\n",
    "#     }\n",
    "# # Javascript(\"\"\"var option={}\"\"\".format(json.dumps(option)))"
   ]
  },
  {
   "cell_type": "code",
   "execution_count": 23,
   "metadata": {
    "collapsed": true
   },
   "outputs": [],
   "source": [
    "from bokeh.io import output_notebook"
   ]
  },
  {
   "cell_type": "code",
   "execution_count": null,
   "metadata": {
    "collapsed": true
   },
   "outputs": [],
   "source": []
  },
  {
   "cell_type": "code",
   "execution_count": null,
   "metadata": {
    "collapsed": true
   },
   "outputs": [],
   "source": []
  },
  {
   "cell_type": "code",
   "execution_count": null,
   "metadata": {
    "collapsed": true
   },
   "outputs": [],
   "source": []
  }
 ],
 "metadata": {
  "hide_input": false,
  "kernelspec": {
   "display_name": "Python 3",
   "language": "python",
   "name": "python3"
  },
  "language_info": {
   "codemirror_mode": {
    "name": "ipython",
    "version": 3
   },
   "file_extension": ".py",
   "mimetype": "text/x-python",
   "name": "python",
   "nbconvert_exporter": "python",
   "pygments_lexer": "ipython3",
   "version": "3.5.1"
  },
  "widgets": {
   "state": {
    "202C1BCF1F5B466A8F42CDB343DAE8C9": {
     "views": []
    },
    "2F66AAB84EFA4E4F97DE7D8CA25CE5CA": {
     "views": []
    },
    "448339D866A24F7D9FAF817429D54D0A": {
     "views": []
    },
    "6915E86CFD23491B81F41C701EE49D53": {
     "views": []
    },
    "8E94BF3513934D2C8D6F2824A1B9DB12": {
     "views": []
    },
    "9147A168296049DA853B3C5DCC5F3175": {
     "views": []
    },
    "F823CF05EFE34DA1907111BBD3431773": {
     "views": []
    },
    "F86BDF6AE9E1458394790406E590D68A": {
     "views": []
    }
   },
   "version": "1.1.2"
  }
 },
 "nbformat": 4,
 "nbformat_minor": 0
}

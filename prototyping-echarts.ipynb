{
 "cells": [
  {
   "cell_type": "code",
   "execution_count": 1,
   "metadata": {
    "collapsed": true
   },
   "outputs": [],
   "source": [
    "import pandas as pd\n",
    "from krisk import init_notebook; init_notebook\n",
    "import krisk.plot as plt"
   ]
  },
  {
   "cell_type": "code",
   "execution_count": 2,
   "metadata": {
    "collapsed": false
   },
   "outputs": [
    {
     "data": {
      "application/javascript": [
       "\n",
       "    require.config({\n",
       "                 baseUrl : 'krisk/js',\n",
       "                 paths: {\n",
       "                     echarts: 'echarts.min'\n",
       "                 }\n",
       "    });\n",
       "    "
      ],
      "text/plain": [
       "<IPython.core.display.Javascript object>"
      ]
     },
     "execution_count": 2,
     "metadata": {},
     "output_type": "execute_result"
    }
   ],
   "source": [
    "init_notebook()"
   ]
  },
  {
   "cell_type": "code",
   "execution_count": 3,
   "metadata": {
    "collapsed": false
   },
   "outputs": [],
   "source": [
    "df = pd.read_csv('krisk/tests/data/gapminderDataFiveYear.txt', sep='\\t')"
   ]
  },
  {
   "cell_type": "code",
   "execution_count": 4,
   "metadata": {
    "collapsed": false
   },
   "outputs": [],
   "source": [
    "p = plt.bar(df[df.country == 'Afghanistan'],'year',y='lifeExp',how=None,annotate=True)"
   ]
  },
  {
   "cell_type": "code",
   "execution_count": 9,
   "metadata": {
    "collapsed": false
   },
   "outputs": [],
   "source": [
    "p.set_theme('dark')\n",
    "p.set_size(width=1000,height=700)\n",
    "p.to_html('../dark_bar.html')"
   ]
  },
  {
   "cell_type": "code",
   "execution_count": 6,
   "metadata": {
    "collapsed": true
   },
   "outputs": [],
   "source": [
    "from krisk.connections import get_paths"
   ]
  },
  {
   "cell_type": "code",
   "execution_count": 7,
   "metadata": {
    "collapsed": false
   },
   "outputs": [
    {
     "data": {
      "text/plain": [
       "['echarts']"
      ]
     },
     "execution_count": 7,
     "metadata": {},
     "output_type": "execute_result"
    }
   ],
   "source": [
    "get_paths()"
   ]
  },
  {
   "cell_type": "code",
   "execution_count": null,
   "metadata": {
    "collapsed": true
   },
   "outputs": [],
   "source": []
  },
  {
   "cell_type": "code",
   "execution_count": null,
   "metadata": {
    "collapsed": true
   },
   "outputs": [],
   "source": []
  },
  {
   "cell_type": "code",
   "execution_count": 32,
   "metadata": {
    "collapsed": false
   },
   "outputs": [],
   "source": [
    "p.to_html('../this2.html')"
   ]
  },
  {
   "cell_type": "code",
   "execution_count": 22,
   "metadata": {
    "collapsed": false
   },
   "outputs": [
    {
     "data": {
      "application/javascript": [
       "\n",
       "$('#592a1c8a-b7b5-4e0d-b4fa-d094b1b5974e').attr('id','592a1c8a-b7b5-4e0d-b4fa-d094b1b5974e'+'_old');\n",
       "element.append('<div id=\"592a1c8a-b7b5-4e0d-b4fa-d094b1b5974e\" style=\"width: 600px;height:400px;\"></div>');\n",
       "require(['echarts', 'dark', 'vintage', 'roma', 'shine', 'infographic', 'macarons'],\n",
       "function(echarts){\n",
       "    \n",
       "    function parseFunction(str){\n",
       "        return eval('(' + str + ')');\n",
       "    }\n",
       "    \n",
       "    var myChart = echarts.init(document.getElementById(\"592a1c8a-b7b5-4e0d-b4fa-d094b1b5974e\"),\"\");\n",
       "    \n",
       "    var option = {\n",
       "    \"legend\": {\n",
       "        \"data\": []\n",
       "    },\n",
       "    \"series\": [\n",
       "        {\n",
       "            \"data\": [\n",
       "                28.801,\n",
       "                30.332,\n",
       "                31.997,\n",
       "                34.02,\n",
       "                36.088,\n",
       "                38.438,\n",
       "                39.854,\n",
       "                40.822,\n",
       "                41.674,\n",
       "                41.763,\n",
       "                42.129,\n",
       "                43.828\n",
       "            ],\n",
       "            \"type\": \"bar\",\n",
       "            \"name\": \"year\",\n",
       "            \"label\": {\n",
       "                \"normal\": {\n",
       "                    \"position\": \"top\",\n",
       "                    \"show\": true\n",
       "                }\n",
       "            }\n",
       "        }\n",
       "    ],\n",
       "    \"title\": {\n",
       "        \"text\": \"\"\n",
       "    },\n",
       "    \"yAxis\": {},\n",
       "    \"xAxis\": {\n",
       "        \"data\": [\n",
       "            1952,\n",
       "            1957,\n",
       "            1962,\n",
       "            1967,\n",
       "            1972,\n",
       "            1977,\n",
       "            1982,\n",
       "            1987,\n",
       "            1992,\n",
       "            1997,\n",
       "            2002,\n",
       "            2007\n",
       "        ]\n",
       "    },\n",
       "    \"tooltip\": {\n",
       "        \"axisPointer\": {\n",
       "            \"type\": \"\"\n",
       "        }\n",
       "    }\n",
       "};\n",
       "    option['tooltip']['formatter'] = parseFunction(option['tooltip']['formatter']);\n",
       "    \n",
       "    //option['series'][0]['symbolSize'] = function (val){return val[2]*10;}\n",
       "    \n",
       "    \n",
       "    myChart.setOption(option);\n",
       "    //console.log(option);\n",
       "    \n",
       "    \n",
       "});\n"
      ],
      "text/plain": [
       "<krisk.chart.Chart at 0x111904e48>"
      ]
     },
     "execution_count": 22,
     "metadata": {},
     "output_type": "execute_result"
    }
   ],
   "source": [
    "p.to_html('')"
   ]
  },
  {
   "cell_type": "code",
   "execution_count": null,
   "metadata": {
    "collapsed": true
   },
   "outputs": [],
   "source": []
  },
  {
   "cell_type": "code",
   "execution_count": 21,
   "metadata": {
    "collapsed": false
   },
   "outputs": [
    {
     "name": "stdout",
     "output_type": "stream",
     "text": [
      "Overwriting krisk/connections.py\n"
     ]
    }
   ],
   "source": [
    "%%file krisk/connections.py\n",
    "\n",
    "from collections import OrderedDict\n",
    "from IPython.display import Javascript\n",
    "import json\n",
    "\n",
    "ECHARTS_URL = 'https://cdnjs.cloudflare.com/ajax/libs/echarts/3.2.0/'\n",
    "ECHARTS_FILE = 'echarts.min'\n",
    "d_paths = OrderedDict({})\n",
    "THEMES = ['dark','vintage','roma','shine','infographic','macarons']\n",
    "THEMES_URL='//echarts.baidu.com/asset/theme/'\n",
    "PATH_LOCAL = 'js/'\n",
    "\n",
    "\n",
    "def init_notebook(online=True):\n",
    "    \"\"\"Inject Javascript to notebook, default using local js.\n",
    "    \n",
    "    \"\"\"\n",
    "    return Javascript(\"\"\"\n",
    "    require.config({\n",
    "                 baseUrl : 'krisk/js',\n",
    "                 paths: {\n",
    "                     echarts: 'echarts.min'\n",
    "                 }\n",
    "    });\n",
    "    \"\"\")\n",
    "    \n",
    "def get_paths():\n",
    "    return ['echarts']\n",
    "#     return d_paths.keys()"
   ]
  },
  {
   "cell_type": "code",
   "execution_count": null,
   "metadata": {
    "collapsed": true
   },
   "outputs": [],
   "source": []
  },
  {
   "cell_type": "code",
   "execution_count": 19,
   "metadata": {
    "collapsed": false
   },
   "outputs": [
    {
     "data": {
      "text/plain": [
       "'/Volumes/Marice-Dev/Testing/echarts/pandas-echarts/krisk/template.html'"
      ]
     },
     "execution_count": 19,
     "metadata": {},
     "output_type": "execute_result"
    }
   ],
   "source": [
    "from krisk.util import join_current_dir\n",
    "join_current_dir('template.html')"
   ]
  },
  {
   "cell_type": "code",
   "execution_count": null,
   "metadata": {
    "collapsed": true
   },
   "outputs": [],
   "source": [
    "%load ../"
   ]
  },
  {
   "cell_type": "code",
   "execution_count": null,
   "metadata": {
    "collapsed": true
   },
   "outputs": [],
   "source": [
    "# %load krisk/template.py\n",
    "\n",
    "from krisk.util import join_current_dir\n",
    "def save_html(script,path):\n",
    "    \n",
    "    from jinja2 import Template\n",
    "    \n",
    "    html_template = open(join_current_dir('template.html'),'r')\n",
    "    script = script.replace('element','$(\"body\")')\n",
    "    f = open(path,'w')\n",
    "    f.write(Template(html_template.read()).render(SCRIPT=script))\n",
    "    f.close()\n",
    "    html_template.close()\n",
    "\n",
    "\n",
    "RESET_OPTION = \"\"\"\n",
    "require(['echarts', 'dark', 'vintage', 'roma', 'shine', 'infographic', 'macarons'],\n",
    "function(echarts){{\n",
    "    \n",
    "    function parseFunction(str){{\n",
    "        return eval('(' + str + ')');\n",
    "    }}\n",
    "    \n",
    "    var myChart = echarts.init(document.getElementById(\"{chartId}\"),\"{theme}\");\n",
    "    \n",
    "    var option = {option};\n",
    "    option['tooltip']['formatter'] = parseFunction(option['tooltip']['formatter']);\n",
    "    \n",
    "    //option['series'][0]['symbolSize'] = function (val){{return val[2]*10;}}\n",
    "    \n",
    "    \n",
    "    myChart.setOption(option);\n",
    "    //console.log(option);\n",
    "    {events}\n",
    "    \n",
    "}});\n",
    "\"\"\"\n",
    "\n",
    "\n",
    "APPEND_ELEMENT = \"\"\"\n",
    "$('#{id}').attr('id','{id}'+'_old');\n",
    "element.append('<div id=\"{id}\" style=\"width: 600px;height:400px;\"></div>');\"\"\"\n",
    "\n",
    "\n",
    "OPTION_TEMPLATE = {\n",
    "        'title': {\n",
    "            'text': ''\n",
    "        },\n",
    "        'tooltip': {'axisPointer':{'type':''}},\n",
    "        'legend': {\n",
    "            'data':[]\n",
    "        },\n",
    "        'xAxis': {\n",
    "            'data': []\n",
    "        },\n",
    "        'yAxis': {},\n",
    "        'series': []\n",
    "    }\n",
    "\n",
    "\n",
    "EVENTS_TEMPLATE = \"\"\"\n",
    "myChart.on('{event}',function(params){{\n",
    "\n",
    "    var d_params  = {{'series':{{'name':params.seriesName,\n",
    "                                 'index':params.seriesIndex}},\n",
    "                      'data':{{'value':params.value,\n",
    "                               'index':params.dataIndex,\n",
    "                               'name':params.name}}\n",
    "    }}\n",
    "    \n",
    "    console.log('parameters extracted: ');\n",
    "    console.log(d_params);\n",
    "    \n",
    "    // Create new cell and execute function passed with parameters\n",
    "    var nb = Jupyter.notebook;\n",
    "    nb.insert_cell_below();\n",
    "    nb.select_next();\n",
    "    \n",
    "    var json_strings = JSON.stringify(d_params);\n",
    "\n",
    "    var cell = nb.get_selected_cell();\n",
    "    var code_input = \"{function}(json.loads('\" + json_strings + \"'))\";\n",
    "    console.log(\"Executing code: \" + code_input);\n",
    "    cell.set_text(code_input);\n",
    "    cell.execute();\n",
    "    \n",
    "    \n",
    "    // Immediately delete the cell after execute\n",
    "    nb.delete_cell();\n",
    "    \n",
    "}});\n",
    "\"\"\""
   ]
  },
  {
   "cell_type": "code",
   "execution_count": 15,
   "metadata": {
    "collapsed": false
   },
   "outputs": [
    {
     "name": "stdout",
     "output_type": "stream",
     "text": [
      "\u001b[31mUntitled.ipynb\u001b[m\u001b[m*            \u001b[31mprototyping-echarts.ipynb\u001b[m\u001b[m*\r\n",
      "\u001b[31masya\u001b[m\u001b[m*                      \u001b[31mscatter.html\u001b[m\u001b[m*\r\n",
      "\u001b[31mchart_scatter.html\u001b[m\u001b[m*        \u001b[31mscatter2.html\u001b[m\u001b[m*\r\n",
      "\u001b[31mchart_scatter2.html\u001b[m\u001b[m*       \u001b[31mscatter3.html\u001b[m\u001b[m*\r\n",
      "\u001b[31mdata.tsv\u001b[m\u001b[m*                  \u001b[31mtemplate.html\u001b[m\u001b[m*\r\n",
      "\u001b[31mecharts_theme_test.html\u001b[m\u001b[m*   \u001b[31mtemplate.py\u001b[m\u001b[m*\r\n",
      "\u001b[31mkrisk.zip\u001b[m\u001b[m*                 \u001b[31mtemplate_a.html\u001b[m\u001b[m*\r\n",
      "\u001b[31mname.html\u001b[m\u001b[m*                 \u001b[31mtesmy.html\u001b[m\u001b[m*\r\n",
      "\u001b[30m\u001b[43mpandas-echarts\u001b[m\u001b[m/            \u001b[31mtesmyaa.html\u001b[m\u001b[m*\r\n",
      "\u001b[31mpandas-echartsJun28.zip\u001b[m\u001b[m*   \u001b[31mtesmyaabc.html\u001b[m\u001b[m*\r\n"
     ]
    }
   ],
   "source": [
    "ls .."
   ]
  },
  {
   "cell_type": "code",
   "execution_count": null,
   "metadata": {
    "collapsed": true
   },
   "outputs": [],
   "source": []
  },
  {
   "cell_type": "code",
   "execution_count": null,
   "metadata": {
    "collapsed": true
   },
   "outputs": [],
   "source": []
  },
  {
   "cell_type": "code",
   "execution_count": null,
   "metadata": {
    "collapsed": true
   },
   "outputs": [],
   "source": []
  },
  {
   "cell_type": "code",
   "execution_count": null,
   "metadata": {
    "collapsed": true
   },
   "outputs": [],
   "source": []
  },
  {
   "cell_type": "code",
   "execution_count": null,
   "metadata": {
    "collapsed": true
   },
   "outputs": [],
   "source": []
  },
  {
   "cell_type": "code",
   "execution_count": null,
   "metadata": {
    "collapsed": true
   },
   "outputs": [],
   "source": []
  },
  {
   "cell_type": "code",
   "execution_count": 25,
   "metadata": {
    "collapsed": true
   },
   "outputs": [],
   "source": [
    "p.to_html('chart-me3.html')"
   ]
  },
  {
   "cell_type": "code",
   "execution_count": null,
   "metadata": {
    "collapsed": true
   },
   "outputs": [],
   "source": []
  },
  {
   "cell_type": "code",
   "execution_count": null,
   "metadata": {
    "collapsed": true
   },
   "outputs": [],
   "source": []
  },
  {
   "cell_type": "code",
   "execution_count": 254,
   "metadata": {
    "collapsed": false
   },
   "outputs": [],
   "source": [
    "df['Pop'] = df['pop'] / 1000000"
   ]
  },
  {
   "cell_type": "code",
   "execution_count": 271,
   "metadata": {
    "collapsed": false
   },
   "outputs": [
    {
     "data": {
      "text/plain": [
       "1318683096.0"
      ]
     },
     "execution_count": 271,
     "metadata": {},
     "output_type": "execute_result"
    }
   ],
   "source": [
    "df['pop'].max()"
   ]
  },
  {
   "cell_type": "code",
   "execution_count": 272,
   "metadata": {
    "collapsed": false
   },
   "outputs": [
    {
     "data": {
      "text/plain": [
       "1318.683096"
      ]
     },
     "execution_count": 272,
     "metadata": {},
     "output_type": "execute_result"
    }
   ],
   "source": [
    "df['Pop'].max()"
   ]
  },
  {
   "cell_type": "code",
   "execution_count": 277,
   "metadata": {
    "collapsed": true
   },
   "outputs": [],
   "source": [
    "p.to_html('scatter3.html')"
   ]
  },
  {
   "cell_type": "code",
   "execution_count": 276,
   "metadata": {
    "collapsed": false
   },
   "outputs": [],
   "source": [
    "p = scatter(df[df.year == 2007],'lifeExp','gdpPercap',size='pop')\n",
    "# p.set_tooltip_format(['country','lifeExp','continent'])"
   ]
  },
  {
   "cell_type": "code",
   "execution_count": 235,
   "metadata": {
    "collapsed": false
   },
   "outputs": [
    {
     "ename": "AssertionError",
     "evalue": "",
     "output_type": "error",
     "traceback": [
      "\u001b[0;31m---------------------------------------------------------------------------\u001b[0m",
      "\u001b[0;31mAssertionError\u001b[0m                            Traceback (most recent call last)",
      "\u001b[0;32m<ipython-input-235-574c64d50655>\u001b[0m in \u001b[0;36m<module>\u001b[0;34m()\u001b[0m\n\u001b[1;32m     35\u001b[0m \u001b[0mtest_line\u001b[0m\u001b[0;34m(\u001b[0m\u001b[0;34m)\u001b[0m\u001b[0;34m\u001b[0m\u001b[0m\n\u001b[1;32m     36\u001b[0m \u001b[0mtest_hist\u001b[0m\u001b[0;34m(\u001b[0m\u001b[0;34m)\u001b[0m\u001b[0;34m\u001b[0m\u001b[0m\n\u001b[0;32m---> 37\u001b[0;31m \u001b[0mtest_scatter\u001b[0m\u001b[0;34m(\u001b[0m\u001b[0;34m)\u001b[0m\u001b[0;34m\u001b[0m\u001b[0m\n\u001b[0m",
      "\u001b[0;32m<ipython-input-235-574c64d50655>\u001b[0m in \u001b[0;36mtest_scatter\u001b[0;34m()\u001b[0m\n\u001b[1;32m     30\u001b[0m     \u001b[0mp\u001b[0m \u001b[0;34m=\u001b[0m \u001b[0mscatter\u001b[0m\u001b[0;34m(\u001b[0m\u001b[0mdf\u001b[0m\u001b[0;34m[\u001b[0m\u001b[0mdf\u001b[0m\u001b[0;34m.\u001b[0m\u001b[0myear\u001b[0m \u001b[0;34m==\u001b[0m \u001b[0;36m1952\u001b[0m\u001b[0;34m]\u001b[0m\u001b[0;34m,\u001b[0m\u001b[0;34m'lifeExp'\u001b[0m\u001b[0;34m,\u001b[0m\u001b[0;34m'gdpPercap'\u001b[0m\u001b[0;34m,\u001b[0m\u001b[0msize\u001b[0m\u001b[0;34m=\u001b[0m\u001b[0;34m'pop'\u001b[0m\u001b[0;34m,\u001b[0m\u001b[0mcategory\u001b[0m\u001b[0;34m=\u001b[0m\u001b[0;34m'continent'\u001b[0m\u001b[0;34m)\u001b[0m\u001b[0;34m\u001b[0m\u001b[0m\n\u001b[1;32m     31\u001b[0m \u001b[0;34m\u001b[0m\u001b[0m\n\u001b[0;32m---> 32\u001b[0;31m     \u001b[0;32massert\u001b[0m \u001b[0mp\u001b[0m\u001b[0;34m.\u001b[0m\u001b[0m_option\u001b[0m \u001b[0;34m==\u001b[0m \u001b[0mtrue_option\u001b[0m\u001b[0;34m\u001b[0m\u001b[0m\n\u001b[0m\u001b[1;32m     33\u001b[0m \u001b[0;34m\u001b[0m\u001b[0m\n\u001b[1;32m     34\u001b[0m \u001b[0mtest_bar\u001b[0m\u001b[0;34m(\u001b[0m\u001b[0;34m)\u001b[0m\u001b[0;34m\u001b[0m\u001b[0m\n",
      "\u001b[0;31mAssertionError\u001b[0m: "
     ]
    }
   ],
   "source": [
    "# %%file pandas-echarts/tests/test_option.py\n",
    "\n",
    "\n",
    "df = pd.read_csv('gapminderDataFiveYear.txt',sep='\\t')\n",
    "\n",
    "def test_bar():\n",
    "    \n",
    "    true_option = json.load(open('pandas-echarts/tests/data/bar_option.json','r'))\n",
    "    p = bar(df,'lifeExp',y='pop',category='continent',how='mean',stacked=True)\n",
    "    \n",
    "    assert p._option == true_option\n",
    "    \n",
    "def test_line():\n",
    "    \n",
    "    true_option = json.load(open('pandas-echarts/tests/data/line_option.json','r'))\n",
    "    p = line(df,'year',y='lifeExp',category='continent',how='mean',stacked=True,area=True)\n",
    "    \n",
    "    assert p._option == true_option\n",
    "    \n",
    "def test_hist():\n",
    "    \n",
    "    true_option = json.load(open('pandas-echarts/tests/data/hist_option.json','r'))\n",
    "    p = hist(df,'lifeExp',category='continent',bins=100,normed=True,stacked=True)\n",
    "    \n",
    "    assert p._option == true_option\n",
    "    \n",
    "def test_scatter():\n",
    "    \n",
    "    true_option = json.load(open('pandas-echarts/tests/data/scatter_option.json','r'))\n",
    "    p = scatter(df[df.year == 1952],'lifeExp','gdpPercap',size='pop',category='continent')\n",
    "    \n",
    "    assert p._option == true_option\n",
    "\n",
    "test_bar()\n",
    "test_line()\n",
    "test_hist()\n",
    "test_scatter()"
   ]
  },
  {
   "cell_type": "code",
   "execution_count": null,
   "metadata": {
    "collapsed": true
   },
   "outputs": [],
   "source": []
  },
  {
   "cell_type": "code",
   "execution_count": null,
   "metadata": {
    "collapsed": true
   },
   "outputs": [],
   "source": []
  },
  {
   "cell_type": "code",
   "execution_count": null,
   "metadata": {
    "collapsed": true
   },
   "outputs": [],
   "source": []
  },
  {
   "cell_type": "code",
   "execution_count": null,
   "metadata": {
    "collapsed": true
   },
   "outputs": [],
   "source": []
  },
  {
   "cell_type": "code",
   "execution_count": 39,
   "metadata": {
    "collapsed": true
   },
   "outputs": [],
   "source": [
    "from bokeh import colors\n",
    "from bokeh import palettes"
   ]
  },
  {
   "cell_type": "code",
   "execution_count": 23,
   "metadata": {
    "collapsed": true
   },
   "outputs": [],
   "source": [
    "true_option = json.load(open('pandas-echarts/tests/data/scatter_option.json','r'))"
   ]
  },
  {
   "cell_type": "code",
   "execution_count": 29,
   "metadata": {
    "collapsed": false
   },
   "outputs": [],
   "source": [
    "d = {}"
   ]
  },
  {
   "cell_type": "code",
   "execution_count": 30,
   "metadata": {
    "collapsed": true
   },
   "outputs": [],
   "source": [
    "d['label'] = {'name':'hellow'}"
   ]
  },
  {
   "cell_type": "code",
   "execution_count": null,
   "metadata": {
    "collapsed": true
   },
   "outputs": [],
   "source": []
  },
  {
   "cell_type": "code",
   "execution_count": null,
   "metadata": {
    "collapsed": true
   },
   "outputs": [],
   "source": []
  },
  {
   "cell_type": "code",
   "execution_count": null,
   "metadata": {
    "collapsed": true
   },
   "outputs": [],
   "source": []
  },
  {
   "cell_type": "code",
   "execution_count": 131,
   "metadata": {
    "collapsed": false
   },
   "outputs": [],
   "source": [
    "def foo(params):\n",
    "    \n",
    "    d.resync_data(df)\n",
    "    return \"Hello World\""
   ]
  },
  {
   "cell_type": "code",
   "execution_count": 132,
   "metadata": {
    "collapsed": false,
    "run_control": {
     "marked": false
    },
    "scrolled": true
   },
   "outputs": [
    {
     "data": {
      "application/javascript": [
       "\n",
       "$('#ec5f9646-0f4f-4f03-9217-532c4a631e91').attr('id','ec5f9646-0f4f-4f03-9217-532c4a631e91'+'_old');\n",
       "element.append('<div id=\"ec5f9646-0f4f-4f03-9217-532c4a631e91\" style=\"width: 600px;height:400px;\"></div>');\n",
       "require(['echarts', 'dark', 'vintage', 'roma', 'shine', 'infographic', 'macarons'],function(echarts){\n",
       "    var myChart = echarts.init(document.getElementById(\"ec5f9646-0f4f-4f03-9217-532c4a631e91\"),\"\");\n",
       "    myChart.setOption({\"tooltip\": {\"axisPointer\": {\"type\": \"\"}}, \"legend\": {\"data\": []}, \"yAxis\": {}, \"title\": {\"text\": \"\"}, \"xAxis\": {\"data\": [\"Asia\", \"Europe\", \"Africa\", \"Americas\", \"Oceania\"]}, \"series\": [{\"type\": \"bar\", \"data\": [624, 396, 360, 300, 24], \"name\": \"continent\"}]});\n",
       "    \n",
       "myChart.on('mouseover',function(params){\n",
       "\n",
       "    var d_params  = {'series':{'name':params.seriesName,'index':params.seriesIndex},\n",
       "    'data':{'value':params.value,'index':params.dataIndex,'name':params.name}\n",
       "    }\n",
       "    \n",
       "    console.log('data extracted: ');\n",
       "    console.log(d_params);\n",
       "    \n",
       "    // Create new Cell and execute function passed with parameters\n",
       "    var nb = Jupyter.notebook;\n",
       "    nb.insert_cell_below();\n",
       "    nb.select_next();\n",
       "    \n",
       "    var json_strings = JSON.stringify(d_params);\n",
       "\n",
       "    var cell = nb.get_selected_cell();\n",
       "    var code_input = \"foo(json.loads('\" + json_strings + \"'))\";\n",
       "    console.log(\"Executing code: \" + code_input);\n",
       "    cell.set_text(code_input);\n",
       "    cell.execute();\n",
       "    \n",
       "    \n",
       "    // Immediately delete the cell after execute\n",
       "    nb.delete_cell();\n",
       "    \n",
       "});\n",
       "\n",
       "\n",
       "myChart.on('click',function(params){\n",
       "\n",
       "    var d_params  = {'series':{'name':params.seriesName,'index':params.seriesIndex},\n",
       "    'data':{'value':params.value,'index':params.dataIndex,'name':params.name}\n",
       "    }\n",
       "    \n",
       "    console.log('data extracted: ');\n",
       "    console.log(d_params);\n",
       "    \n",
       "    // Create new Cell and execute function passed with parameters\n",
       "    var nb = Jupyter.notebook;\n",
       "    nb.insert_cell_below();\n",
       "    nb.select_next();\n",
       "    \n",
       "    var json_strings = JSON.stringify(d_params);\n",
       "\n",
       "    var cell = nb.get_selected_cell();\n",
       "    var code_input = \"foo(json.loads('\" + json_strings + \"'))\";\n",
       "    console.log(\"Executing code: \" + code_input);\n",
       "    cell.set_text(code_input);\n",
       "    cell.execute();\n",
       "    \n",
       "    \n",
       "    // Immediately delete the cell after execute\n",
       "    nb.delete_cell();\n",
       "    \n",
       "});\n",
       "\n",
       "});\n"
      ],
      "text/plain": [
       "<__main__.Chart at 0x106509eb8>"
      ]
     },
     "execution_count": 132,
     "metadata": {},
     "output_type": "execute_result"
    }
   ],
   "source": [
    "d = bar(df,x='continent')\n",
    "d.on_event('mouseover',foo)"
   ]
  },
  {
   "cell_type": "code",
   "execution_count": 48,
   "metadata": {
    "collapsed": false
   },
   "outputs": [
    {
     "data": {
      "text/plain": [
       "'4.1.1'"
      ]
     },
     "execution_count": 48,
     "metadata": {},
     "output_type": "execute_result"
    }
   ],
   "source": [
    "ipywidgets.__version__"
   ]
  },
  {
   "cell_type": "code",
   "execution_count": 85,
   "metadata": {
    "collapsed": false
   },
   "outputs": [],
   "source": [
    "# %%file krisk/tests/test_make_chart.py\n",
    "import pytest\n",
    "\n",
    "@pytest.fixture\n",
    "def chart_gapminder():\n",
    "    import pandas as pd\n",
    "    #from krisk import make_chart\n",
    "    df = pd.read_csv('../echarts/gapminderDataFiveYear.txt',sep='\\t')\n",
    "    return (line(df,x='year',category='continent',y='lifeExp',how='mean',area=True,stacked=True)\n",
    "             .set_theme('vintage')\n",
    "             .set_tooltip())\n",
    "\n",
    "\n",
    "def test_option(chart_gapminder):\n",
    "    import json\n",
    "    json_path ='krisk/tests/json_gapminder_line_year_continent_lifeExp_mean_area_stacked.json'\n",
    "    option = json.load(open(json_path,'r'))\n",
    "    assert option == chart_gapminder._option\n",
    "    \n",
    "test_option(chart_gapminder())"
   ]
  },
  {
   "cell_type": "markdown",
   "metadata": {},
   "source": [
    "# TODO\n",
    "\n",
    "Priority:\n",
    "\n",
    "1. Legend and Title DONE\n",
    "2. Tooltip DONE? Scatter"
   ]
  },
  {
   "cell_type": "markdown",
   "metadata": {},
   "source": [
    "to_html DONE"
   ]
  },
  {
   "cell_type": "markdown",
   "metadata": {},
   "source": [
    "set_toolbox"
   ]
  },
  {
   "cell_type": "markdown",
   "metadata": {},
   "source": [
    "set_figsize()"
   ]
  },
  {
   "cell_type": "markdown",
   "metadata": {},
   "source": [
    "refactor insert series DONE?"
   ]
  },
  {
   "cell_type": "markdown",
   "metadata": {},
   "source": [
    "set item_style"
   ]
  },
  {
   "cell_type": "markdown",
   "metadata": {},
   "source": [
    "self._data_columns = df.columns\n",
    "if update:\n",
    "    self._data.columns != df.columns"
   ]
  },
  {
   "cell_type": "markdown",
   "metadata": {},
   "source": [
    "set annotate = True DONE"
   ]
  },
  {
   "cell_type": "markdown",
   "metadata": {},
   "source": [
    "set ticks DONE?"
   ]
  },
  {
   "cell_type": "markdown",
   "metadata": {},
   "source": [
    "set_color(background=None,palletes=None) DONE?"
   ]
  },
  {
   "cell_type": "markdown",
   "metadata": {},
   "source": [
    " set_title(title,pos=('center','top')/'left and set_legend\n",
    "\n",
    "    'best'         : 0, (only implemented for axes legends)\n",
    "    'upper right'  : 1,\n",
    "    'upper left'   : 2,\n",
    "    'lower left'   : 3,\n",
    "    'lower right'  : 4,\n",
    "    'right'        : 5,\n",
    "    'center left'  : 6,\n",
    "    'center right' : 7,\n",
    "    'lower center' : 8,\n",
    "    'upper center' : 9,\n",
    "    'center'       : 10,"
   ]
  },
  {
   "cell_type": "markdown",
   "metadata": {},
   "source": [
    "## bar\n",
    "* http://echarts.baidu.com/demo.html#bar-y-category DONE\n",
    "* http://echarts.baidu.com/demo.html#bar-y-category-stack DONE\n",
    "\n",
    "## scatter\n",
    "* http://echarts.baidu.com/demo.html#scatter-aqi-color\n",
    "* http://echarts.baidu.com/demo.html#scatter-world-population\n",
    "* http://echarts.baidu.com/demo.html#scatter-life-expectancy-timeline\n",
    "\n",
    "## line\n",
    "* http://echarts.baidu.com/demo.html#dynamic-data2 DONE\n",
    "* http://echarts.baidu.com/demo.html#line-stack DONE\n",
    "* http://echarts.baidu.com/demo.html#area-stack DONE"
   ]
  },
  {
   "cell_type": "markdown",
   "metadata": {
    "collapsed": false
   },
   "source": [
    "## Histogram hist with category\n",
    "\n",
    "* http://echarts.baidu.com/demo.html#bar-animation-delay\n",
    "* http://echarts.baidu.com/demo.html#mix-line-bar DONE\n",
    "* http://echarts.baidu.com/demo.html#bar1(np.histogram, lose the markline and markpoint) DONE"
   ]
  },
  {
   "cell_type": "markdown",
   "metadata": {},
   "source": [
    "### POTENTIALLY BUG\n",
    "\n",
    "* callback for loading echarts"
   ]
  },
  {
   "cell_type": "markdown",
   "metadata": {},
   "source": [
    "# Testing Echarts"
   ]
  },
  {
   "cell_type": "code",
   "execution_count": 193,
   "metadata": {
    "collapsed": false
   },
   "outputs": [
    {
     "data": {
      "application/javascript": [
       "$('#main').remove()\n",
       "element.append('<div id=\"main\" style=\"width: 600px;height:400px;\"></div>');\n",
       "require(['echarts'],function(echarts){\n",
       "// 基于准备好的dom，初始化echarts实例\n",
       "    \n",
       "        var colorPalette = ['#d87c7c','#919e8b', '#d7ab82',  '#6e7074','#61a0a8','#efa18d', '#787464', '#cc7e63', '#724e58', '#4b565b'];\n",
       "        echarts.registerTheme('vintage', {\n",
       "            color: colorPalette,\n",
       "            backgroundColor: '#fef8ef',\n",
       "            graph: {\n",
       "                color: colorPalette\n",
       "            }\n",
       "        });\n",
       "\n",
       "        var myChart = echarts.init(document.getElementById('main'),'dark');\n",
       "\n",
       "        // 指定图表的配置项和数据\n",
       "        var option = {\n",
       "            title: {\n",
       "                text: 'ECharts 入门示例'\n",
       "            },\n",
       "            tooltip: {},\n",
       "            legend: {\n",
       "                data:['销量']\n",
       "            },\n",
       "            xAxis: {\n",
       "                data: [\"衬衫\",\"羊毛衫\",\"雪纺衫\",\"裤子\",\"高跟鞋\",\"袜子\"]\n",
       "            },\n",
       "            yAxis: {},\n",
       "            series: [{\n",
       "                name: '销量',\n",
       "                type: 'bar',\n",
       "                data: [5, 20, 36, 10, 10, 20]\n",
       "            }]\n",
       "        };\n",
       "\n",
       "        // 使用刚指定的配置项和数据显示图表。\n",
       "        myChart.setOption(option);\n",
       "});\n",
       "\n",
       "\"Hello World\""
      ],
      "text/plain": [
       "<IPython.core.display.Javascript object>"
      ]
     },
     "metadata": {},
     "output_type": "display_data"
    }
   ],
   "source": [
    "%%javascript\n",
    "$('#main').remove()\n",
    "element.append('<div id=\"main\" style=\"width: 600px;height:400px;\"></div>');\n",
    "require(['echarts'],function(echarts){\n",
    "// 基于准备好的dom，初始化echarts实例\n",
    "    \n",
    "        var colorPalette = ['#d87c7c','#919e8b', '#d7ab82',  '#6e7074','#61a0a8','#efa18d', '#787464', '#cc7e63', '#724e58', '#4b565b'];\n",
    "        echarts.registerTheme('vintage', {\n",
    "            color: colorPalette,\n",
    "            backgroundColor: '#fef8ef',\n",
    "            graph: {\n",
    "                color: colorPalette\n",
    "            }\n",
    "        });\n",
    "\n",
    "        var myChart = echarts.init(document.getElementById('main'),'dark');\n",
    "\n",
    "        // 指定图表的配置项和数据\n",
    "        var option = {\n",
    "            title: {\n",
    "                text: 'ECharts 入门示例'\n",
    "            },\n",
    "            tooltip: {},\n",
    "            legend: {\n",
    "                data:['销量']\n",
    "            },\n",
    "            xAxis: {\n",
    "                data: [\"衬衫\",\"羊毛衫\",\"雪纺衫\",\"裤子\",\"高跟鞋\",\"袜子\"]\n",
    "            },\n",
    "            yAxis: {},\n",
    "            series: [{\n",
    "                name: '销量',\n",
    "                type: 'bar',\n",
    "                data: [5, 20, 36, 10, 10, 20]\n",
    "            }]\n",
    "        };\n",
    "\n",
    "        // 使用刚指定的配置项和数据显示图表。\n",
    "        myChart.setOption(option);\n",
    "});\n",
    "\n",
    "\"Hello World\""
   ]
  },
  {
   "cell_type": "code",
   "execution_count": null,
   "metadata": {
    "collapsed": false
   },
   "outputs": [],
   "source": [
    "# import json\n",
    "# option = {\n",
    "#         'title': {\n",
    "#             'text': 'ECharts 入门示例'\n",
    "#         },\n",
    "#         'tooltip': {},\n",
    "#         'legend': {\n",
    "#             'data':['销量']\n",
    "#         },\n",
    "#         'xAxis': {\n",
    "#             'data': [\"衬衫\",\"羊毛衫\",\"雪纺衫\",\"裤子\",\"高跟鞋\",\"袜子\"]\n",
    "#         },\n",
    "#         'yAxis': {},\n",
    "#         'series': [{\n",
    "#             'name': '销量',\n",
    "#             'type': 'bar',\n",
    "#             'data': [20, 20, 36, 10, 10, 20]\n",
    "#         }]\n",
    "#     }\n",
    "# # Javascript(\"\"\"var option={}\"\"\".format(json.dumps(option)))"
   ]
  },
  {
   "cell_type": "code",
   "execution_count": 23,
   "metadata": {
    "collapsed": true
   },
   "outputs": [],
   "source": [
    "from bokeh.io import output_notebook"
   ]
  },
  {
   "cell_type": "code",
   "execution_count": null,
   "metadata": {
    "collapsed": true
   },
   "outputs": [],
   "source": []
  },
  {
   "cell_type": "code",
   "execution_count": null,
   "metadata": {
    "collapsed": true
   },
   "outputs": [],
   "source": []
  },
  {
   "cell_type": "code",
   "execution_count": null,
   "metadata": {
    "collapsed": true
   },
   "outputs": [],
   "source": []
  }
 ],
 "metadata": {
  "hide_input": false,
  "kernelspec": {
   "display_name": "Python 3",
   "language": "python",
   "name": "python3"
  },
  "language_info": {
   "codemirror_mode": {
    "name": "ipython",
    "version": 3
   },
   "file_extension": ".py",
   "mimetype": "text/x-python",
   "name": "python",
   "nbconvert_exporter": "python",
   "pygments_lexer": "ipython3",
   "version": "3.5.1"
  },
  "widgets": {
   "state": {
    "78F10FA4028E4B78866DE46AAB6C16A1": {
     "views": []
    }
   },
   "version": "1.1.2"
  }
 },
 "nbformat": 4,
 "nbformat_minor": 0
}

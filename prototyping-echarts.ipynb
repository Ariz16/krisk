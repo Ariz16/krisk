{
 "cells": [
  {
   "cell_type": "code",
   "execution_count": 1,
   "metadata": {
    "collapsed": true
   },
   "outputs": [],
   "source": [
    "import pandas as pd\n",
    "from krisk import init_notebook; init_notebook\n",
    "import krisk.plot as plt"
   ]
  },
  {
   "cell_type": "code",
   "execution_count": 2,
   "metadata": {
    "collapsed": false
   },
   "outputs": [
    {
     "data": {
      "application/javascript": [
       "\n",
       "    require.config({\n",
       "                 baseUrl : 'krisk/js',\n",
       "                 paths: {\n",
       "                     echarts: 'echarts.min'\n",
       "                 }\n",
       "    });\n",
       "    "
      ],
      "text/plain": [
       "<IPython.core.display.Javascript object>"
      ]
     },
     "execution_count": 2,
     "metadata": {},
     "output_type": "execute_result"
    }
   ],
   "source": [
    "init_notebook()"
   ]
  },
  {
   "cell_type": "code",
   "execution_count": 3,
   "metadata": {
    "collapsed": false
   },
   "outputs": [],
   "source": [
    "df = pd.read_csv('krisk/tests/data/gapminderDataFiveYear.txt', sep='\\t')"
   ]
  },
  {
   "cell_type": "code",
   "execution_count": 9,
   "metadata": {
    "collapsed": false
   },
   "outputs": [],
   "source": [
    "p.set_theme('dark')\n",
    "p.set_size(width=1000,height=700)\n",
    "p.to_html('../dark_bar.html')"
   ]
  },
  {
   "cell_type": "code",
   "execution_count": null,
   "metadata": {
    "collapsed": true
   },
   "outputs": [],
   "source": [
    "%load krisk/plot.py"
   ]
  },
  {
   "cell_type": "code",
   "execution_count": 24,
   "metadata": {
    "collapsed": true
   },
   "outputs": [],
   "source": [
    "from bokeh.charts import Bar"
   ]
  },
  {
   "cell_type": "code",
   "execution_count": 32,
   "metadata": {
    "collapsed": false
   },
   "outputs": [],
   "source": [
    "p.to_html('../this2.html')"
   ]
  },
  {
   "cell_type": "code",
   "execution_count": 22,
   "metadata": {
    "collapsed": false
   },
   "outputs": [
    {
     "data": {
      "application/javascript": [
       "\n",
       "$('#592a1c8a-b7b5-4e0d-b4fa-d094b1b5974e').attr('id','592a1c8a-b7b5-4e0d-b4fa-d094b1b5974e'+'_old');\n",
       "element.append('<div id=\"592a1c8a-b7b5-4e0d-b4fa-d094b1b5974e\" style=\"width: 600px;height:400px;\"></div>');\n",
       "require(['echarts', 'dark', 'vintage', 'roma', 'shine', 'infographic', 'macarons'],\n",
       "function(echarts){\n",
       "    \n",
       "    function parseFunction(str){\n",
       "        return eval('(' + str + ')');\n",
       "    }\n",
       "    \n",
       "    var myChart = echarts.init(document.getElementById(\"592a1c8a-b7b5-4e0d-b4fa-d094b1b5974e\"),\"\");\n",
       "    \n",
       "    var option = {\n",
       "    \"legend\": {\n",
       "        \"data\": []\n",
       "    },\n",
       "    \"series\": [\n",
       "        {\n",
       "            \"data\": [\n",
       "                28.801,\n",
       "                30.332,\n",
       "                31.997,\n",
       "                34.02,\n",
       "                36.088,\n",
       "                38.438,\n",
       "                39.854,\n",
       "                40.822,\n",
       "                41.674,\n",
       "                41.763,\n",
       "                42.129,\n",
       "                43.828\n",
       "            ],\n",
       "            \"type\": \"bar\",\n",
       "            \"name\": \"year\",\n",
       "            \"label\": {\n",
       "                \"normal\": {\n",
       "                    \"position\": \"top\",\n",
       "                    \"show\": true\n",
       "                }\n",
       "            }\n",
       "        }\n",
       "    ],\n",
       "    \"title\": {\n",
       "        \"text\": \"\"\n",
       "    },\n",
       "    \"yAxis\": {},\n",
       "    \"xAxis\": {\n",
       "        \"data\": [\n",
       "            1952,\n",
       "            1957,\n",
       "            1962,\n",
       "            1967,\n",
       "            1972,\n",
       "            1977,\n",
       "            1982,\n",
       "            1987,\n",
       "            1992,\n",
       "            1997,\n",
       "            2002,\n",
       "            2007\n",
       "        ]\n",
       "    },\n",
       "    \"tooltip\": {\n",
       "        \"axisPointer\": {\n",
       "            \"type\": \"\"\n",
       "        }\n",
       "    }\n",
       "};\n",
       "    option['tooltip']['formatter'] = parseFunction(option['tooltip']['formatter']);\n",
       "    \n",
       "    //option['series'][0]['symbolSize'] = function (val){return val[2]*10;}\n",
       "    \n",
       "    \n",
       "    myChart.setOption(option);\n",
       "    //console.log(option);\n",
       "    \n",
       "    \n",
       "});\n"
      ],
      "text/plain": [
       "<krisk.chart.Chart at 0x111904e48>"
      ]
     },
     "execution_count": 22,
     "metadata": {},
     "output_type": "execute_result"
    }
   ],
   "source": [
    "p.to_html('')"
   ]
  },
  {
   "cell_type": "code",
   "execution_count": 27,
   "metadata": {
    "collapsed": false
   },
   "outputs": [
    {
     "name": "stdout",
     "output_type": "stream",
     "text": [
      "Overwriting krisk/make_chart.py\n"
     ]
    }
   ],
   "source": [
    "%%file krisk/make_chart.py\n",
    "\n",
    "from krisk.chart import Chart\n",
    "from copy import deepcopy\n",
    "\n",
    "def round_list(arr):\n",
    "    try:\n",
    "        return arr.values.round(3).tolist() # Numeric Array\n",
    "    except TypeError:\n",
    "        try:\n",
    "            return arr.unique().tolist() #String Array\n",
    "        except AttributeError:\n",
    "            return (arr.apply(lambda x: x.values.round(3) #Dataframe\n",
    "                            if x.dtype.name.startswith('float') \n",
    "                            else x)\n",
    "                    .values.tolist())\n",
    "    \n",
    "                \n",
    "def make_chart(df,**kwargs):\n",
    "    \n",
    "    def insert_series_on(f):\n",
    "\n",
    "        if category:\n",
    "            #Iterate and append Data for every category\n",
    "            for cat, subset in df.groupby(category):\n",
    "                cat = str(cat)\n",
    "                insert_data_to_series(f,subset,cat)\n",
    "                c._option['legend']['data'].append(cat)\n",
    "        else:\n",
    "            insert_data_to_series(f,df)\n",
    "    \n",
    "    \n",
    "    def insert_data_to_series(f,df,cat=None):\n",
    "        data = f(df)\n",
    "        series = deepcopy(elem_series)\n",
    "        series['data'] = round_list(data)\n",
    "        series['type'] = kwargs['type']\n",
    "        series['name'] = cat if cat else x\n",
    "        c._option['series'].append(series)\n",
    "        \n",
    "    \n",
    "    c = Chart(**kwargs)\n",
    "    \n",
    "    elem_series = {\n",
    "            'name': '',\n",
    "            'type': kwargs['type'],\n",
    "            'data': []}\n",
    "    \n",
    "    x = kwargs['x']\n",
    "    y = kwargs.get('y')\n",
    "    category = kwargs['category']\n",
    "    \n",
    "    \n",
    "    def bar_line_hist_condition():\n",
    "        \"\"\"Provide stacked,annotate, area for bar line hist\"\"\"\n",
    "        series = c._option['series']\n",
    "\n",
    "        d_annotate = {'normal':{'show':True,\n",
    "                                'position':'top'}}\n",
    "\n",
    "        if category and kwargs['stacked'] == True:\n",
    "            for s in series:\n",
    "                s['stack'] = category\n",
    "\n",
    "                if kwargs['type'] == 'line' and kwargs['area'] == True:\n",
    "                    s['areaStyle'] = {'normal': {}}\n",
    "\n",
    "                if kwargs['annotate'] == 'all':\n",
    "\n",
    "                    if kwargs['type'] == 'bar':\n",
    "                        d_ant = deepcopy(d_annotate)\n",
    "                        d_ant['normal']['position'] = 'inside'\n",
    "                        s['label'] = deepcopy(d_ant)\n",
    "                    else:\n",
    "                        s['label'] = deepcopy(d_annotate)\n",
    "                        \n",
    "        if kwargs['annotate'] == 'top':\n",
    "            series[-1]['label'] = d_annotate\n",
    "        # TODO: make annotate receive all kinds supported in echarts.\n",
    "    \n",
    "    if kwargs['type'] in ['bar','line']:\n",
    "       \n",
    "        \n",
    "        \n",
    "        def get_bar_line_data(df):\n",
    "            c._option['xAxis']['data'] = round_list(df[x].drop_duplicates())\n",
    "#             c._option['yAxis']['scale'] = True\n",
    "            \n",
    "            if y is None:\n",
    "                data = df[x].value_counts()\n",
    "            else:\n",
    "                data = (df[y]\n",
    "                        if kwargs['how'] is None else\n",
    "                        df.groupby(x)[y].aggregate(kwargs['how']))\n",
    "                    \n",
    "                \n",
    "#             data = (df[x].value_counts()\n",
    "#                     if y is None else\n",
    "#                     df.groupby(x)[y].aggregate(kwargs['how']))\n",
    "            \n",
    "            return data\n",
    "            \n",
    "        \n",
    "        insert_series_on(get_bar_line_data)\n",
    "        bar_line_hist_condition()\n",
    "            \n",
    "    elif kwargs['type'] == 'hist':\n",
    "        kwargs['type'] = 'bar'\n",
    "        \n",
    "        \n",
    "        def get_hist_data(df):\n",
    "            \n",
    "            y_val,x_val = np.histogram(df[x],\n",
    "                                       bins=kwargs['bins'],\n",
    "                                       normed=kwargs['normed'])\n",
    "            data = pd.Series(y_val)\n",
    "            bins = x_val.astype(int).tolist()\n",
    "            c._option['xAxis']['data'] = bins\n",
    "            \n",
    "            return data\n",
    "        \n",
    "        insert_series_on(get_hist_data)\n",
    "        bar_line_hist_condition()\n",
    "            \n",
    "    elif kwargs['type'] == 'scatter':\n",
    "        \n",
    "        c._option['xAxis'] = {'type': 'value',\n",
    "                              'name': x,\n",
    "                              'max': int(df[x].max())}\n",
    "        c._option['yAxis'] = {'type': 'value',\n",
    "                              'name': y,\n",
    "                              'max': int(df[y].max())}\n",
    "        c._option['visualMap'] = []\n",
    "        \n",
    "        \n",
    "        \n",
    "        cols = [x,y]\n",
    "        size = kwargs['size']\n",
    "        if size is not None:\n",
    "            vmap_template_size = {\n",
    "                                    'show': False,\n",
    "                                    'dimension': 2,\n",
    "                                    'min': 0,\n",
    "                                    'max': 250,\n",
    "                                    'precision': 0.1,\n",
    "                                    'inRange': {\n",
    "                                        'symbolSize': [10, 70]\n",
    "                                    }\n",
    "                                }\n",
    "            vmap_size = deepcopy(vmap_template_size)\n",
    "            vmap_size['min'] = df[size].min()\n",
    "            vmap_size['max'] = df[size].max()\n",
    "#             vmap_size['inRange']['symbolSize'] = [30,100]\n",
    "            c._option['visualMap'].append(vmap_size)\n",
    "            cols.append(size)\n",
    "        \n",
    "            \n",
    "        #TODO: Fix Saturate\n",
    "#          saturate = kwargs['saturate']\n",
    "#         if saturate is not None:\n",
    "#             vmap_saturate = deepcopy(visual_map_template)\n",
    "#             vmap_saturate['min'] = float(df[saturate].min())\n",
    "#             vmap_saturate['max'] = float(df[saturate].max())\n",
    "#             vmap_saturate['inRange']['colorLightness'] = [1,0.5]\n",
    "#             c._option['visualMap'].append(vmap_saturate)\n",
    "#             cols.append(saturate)\n",
    "\n",
    "        columns = cols+df.columns.difference(cols).tolist()\n",
    "        c._kwargs_chart_['columns'] = columns\n",
    "        \n",
    "        def get_scatter_data(df):\n",
    "            data = df[columns]\n",
    "#             print(columns)\n",
    "            return data\n",
    "        \n",
    "        insert_series_on(get_scatter_data)\n",
    "    \n",
    "        \n",
    "            \n",
    "    return c"
   ]
  },
  {
   "cell_type": "code",
   "execution_count": 28,
   "metadata": {
    "collapsed": true
   },
   "outputs": [],
   "source": [
    "pd.read_csv()"
   ]
  },
  {
   "cell_type": "code",
   "execution_count": 29,
   "metadata": {
    "collapsed": true
   },
   "outputs": [],
   "source": [
    "import seaborn as sns"
   ]
  },
  {
   "cell_type": "code",
   "execution_count": 37,
   "metadata": {
    "collapsed": false
   },
   "outputs": [
    {
     "name": "stdout",
     "output_type": "stream",
     "text": [
      "Overwriting krisk/plot.py\n"
     ]
    }
   ],
   "source": [
    "%%file krisk/plot.py\n",
    "\n",
    "from krisk.make_chart import make_chart\n",
    "\n",
    "def bar(df,x,y=None,category=None,how='count',stacked=False,\n",
    "        annotate=None,**kwargs):\n",
    "    \"\"\"\n",
    "    Parameters\n",
    "    ----------\n",
    "    df: pd.DataFrame\n",
    "        data to be used for the chart\n",
    "    x: string\n",
    "        columns to be used as category axis\n",
    "    y: string, default to None\n",
    "        if None, use count of category value. otherwise aggregate based on y columns\n",
    "    category: string, default to None\n",
    "        another grouping columns inside x-axis\n",
    "    how: string, default to None\n",
    "        to be passed to pd.group_by(x).aggregate(how). Can be mean,median, or any \n",
    "        reduced operations.\n",
    "    stacked: Boolean, default to False.\n",
    "        Whether to stacked category on top of the other categories.\n",
    "    annotate: string, {'all',True} default to None\n",
    "        if True, annotate value on top of the plot element. If stacked is also True, annotate the last\n",
    "        category. if 'all' and stacked, annotate all category \n",
    "    \n",
    "    Returns\n",
    "    -------\n",
    "    Chart Object\n",
    "    \"\"\"\n",
    "    \n",
    "    # TODO: add optional argument trendline\n",
    "    \n",
    "    kwargs['x'] = x\n",
    "    kwargs['y'] = y\n",
    "    kwargs['category'] = category\n",
    "    kwargs['how'] = how\n",
    "    kwargs['type'] = 'bar'\n",
    "    kwargs['stacked'] = stacked\n",
    "    kwargs['annotate'] = 'top' if annotate == True else annotate\n",
    "    \n",
    "    return make_chart(df,**kwargs)\n",
    "\n",
    "def line(df,x,y=None,category=None,how=None,stacked=False,area=False,\n",
    "         annotate=None,**kwargs):\n",
    "    \"\"\"\n",
    "    Parameters\n",
    "    ----------\n",
    "    df: pd.DataFrame\n",
    "        data to be used for the chart\n",
    "    x: string\n",
    "        columns to be used as category axis\n",
    "    y: string, default to None\n",
    "        if None, use count of category value. otherwise aggregate based on y columns\n",
    "    category: string, default to None\n",
    "        another grouping columns inside x-axis\n",
    "    how: string, default to None\n",
    "        to be passed to pd.group_by(x).aggregate(how). Can be mean,median, or any \n",
    "        reduced operations.\n",
    "    stacked: Boolean, default to False.\n",
    "        Whether to stacked category on top of the other categories.\n",
    "    annotate: string, {'all',True} default to None\n",
    "        if True, annotate value on top of the plot element. If stacked is also True, annotate the last\n",
    "        category. if 'all' and stacked, annotate all category \n",
    "    \n",
    "    Returns\n",
    "    -------\n",
    "    Chart Object\n",
    "    \"\"\"\n",
    "    \n",
    "    kwargs['x'] = x\n",
    "    kwargs['y'] = y\n",
    "    kwargs['category'] = category\n",
    "    kwargs['how'] = how\n",
    "    kwargs['type'] = 'line'\n",
    "    kwargs['stacked'] = stacked\n",
    "    kwargs['area'] = area\n",
    "    kwargs['annotate'] = 'top' if annotate == True else annotate\n",
    "    \n",
    "    return make_chart(df,**kwargs)\n",
    "\n",
    "def hist(df,x,category=None,bins=10,normed=False,stacked=False,\n",
    "         annotate=None,**kwargs):\n",
    "    \"\"\"\n",
    "    Parameters\n",
    "    ----------\n",
    "    df: pd.DataFrame\n",
    "        data to be used for the chart\n",
    "    x: string\n",
    "        columns to be used as category axis\n",
    "    category: string, default to None\n",
    "        another grouping columns inside x-axis\n",
    "    bins: int, default to 10\n",
    "        Set number of bins in histogram\n",
    "    normed: boolean, default to False\n",
    "        Whether normalize the histogram\n",
    "    stacked: Boolean, default to False.\n",
    "        Whether to stacked category on top of the other categories.\n",
    "    annotate: string, {'all',True} default to None\n",
    "        if True, annotate value on top of the plot element. If stacked is also True, annotate the last\n",
    "        category. if 'all' and stacked, annotate all category \n",
    "    \n",
    "    Returns\n",
    "    -------\n",
    "    Chart Object\n",
    "    \"\"\"\n",
    "    \n",
    "    kwargs['x'] = x\n",
    "    kwargs['category'] = category\n",
    "    kwargs['bins'] = bins\n",
    "    kwargs['type'] = 'hist'\n",
    "    kwargs['normed'] = normed\n",
    "    kwargs['stacked'] = stacked\n",
    "    kwargs['annotate'] = 'top' if annotate == True else annotate\n",
    "    \n",
    "    return make_chart(df,**kwargs)\n",
    "\n",
    "def scatter(df,x,y,size=None,category=None,size_px=(10,70),**kwargs):\n",
    "    \"\"\"\n",
    "    Parameters\n",
    "    ----------\n",
    "    df: pd.DataFrame\n",
    "        data to be used for the chart\n",
    "    x,y: string, columns in pd.DataFrame\n",
    "        Used as coordinate in scatter chart\n",
    "    size: string, columns in pd.DataFrame default to None\n",
    "        Used as sizing value of the scatter points\n",
    "    category: string, default to None\n",
    "        column used as grouping color category\n",
    "    size_px: tuple, default to (10,70)\n",
    "        boundary size, lower and upper limit in pixel for min-max scatter points\n",
    "        \n",
    "    Returns\n",
    "    -------\n",
    "    Chart Object\n",
    "    \"\"\"\n",
    "    \n",
    "    kwargs['x'] = x\n",
    "    kwargs['y'] = y\n",
    "    kwargs['category'] = category\n",
    "    kwargs['size'] = size\n",
    "    #kwargs['saturate'] = saturate #TODO: Fix saturate\n",
    "    kwargs['type'] = 'scatter'\n",
    "    \n",
    "    return make_chart(df,**kwargs)"
   ]
  },
  {
   "cell_type": "code",
   "execution_count": 36,
   "metadata": {
    "collapsed": false
   },
   "outputs": [
    {
     "name": "stdout",
     "output_type": "stream",
     "text": [
      "Overwriting krisk/make_chart.py\n"
     ]
    }
   ],
   "source": [
    "%%file krisk/make_chart.py\n",
    "\n",
    "from krisk.chart import Chart\n",
    "from copy import deepcopy\n",
    "\n",
    "def round_list(arr):\n",
    "    try:\n",
    "        return arr.values.round(3).tolist() # Numeric Array\n",
    "    except TypeError:\n",
    "        try:\n",
    "            return arr.unique().tolist() #String Array\n",
    "        except AttributeError:\n",
    "            return (arr.apply(lambda x: x.values.round(3) #Dataframe\n",
    "                            if x.dtype.name.startswith('float') \n",
    "                            else x)\n",
    "                    .values.tolist())\n",
    "    \n",
    "                \n",
    "def make_chart(df,**kwargs):\n",
    "    \n",
    "    def insert_series_on(f):\n",
    "\n",
    "        if category:\n",
    "            #Iterate and append Data for every category\n",
    "            for cat, subset in df.groupby(category):\n",
    "                cat = str(cat)\n",
    "                insert_data_to_series(f,subset,cat)\n",
    "                c._option['legend']['data'].append(cat)\n",
    "        else:\n",
    "            insert_data_to_series(f,df)\n",
    "    \n",
    "    \n",
    "    def insert_data_to_series(f,df,cat=None):\n",
    "        data = f(df)\n",
    "        series = deepcopy(elem_series)\n",
    "        series['data'] = round_list(data)\n",
    "        series['type'] = kwargs['type']\n",
    "        series['name'] = cat if cat else x\n",
    "        c._option['series'].append(series)\n",
    "        \n",
    "    \n",
    "    c = Chart(**kwargs)\n",
    "    \n",
    "    elem_series = {\n",
    "            'name': '',\n",
    "            'type': kwargs['type'],\n",
    "            'data': []}\n",
    "    \n",
    "    x = kwargs['x']\n",
    "    y = kwargs.get('y')\n",
    "    category = kwargs['category']\n",
    "    \n",
    "    \n",
    "    def bar_line_hist_condition():\n",
    "        \"\"\"Provide stacked,annotate, area for bar line hist\"\"\"\n",
    "        series = c._option['series']\n",
    "\n",
    "        d_annotate = {'normal':{'show':True,\n",
    "                                'position':'top'}}\n",
    "\n",
    "        if category and kwargs['stacked'] == True:\n",
    "            for s in series:\n",
    "                s['stack'] = category\n",
    "\n",
    "                if kwargs['type'] == 'line' and kwargs['area'] == True:\n",
    "                    s['areaStyle'] = {'normal': {}}\n",
    "\n",
    "                if kwargs['annotate'] == 'all':\n",
    "\n",
    "                    if kwargs['type'] == 'bar':\n",
    "                        d_ant = deepcopy(d_annotate)\n",
    "                        d_ant['normal']['position'] = 'inside'\n",
    "                        s['label'] = deepcopy(d_ant)\n",
    "                    else:\n",
    "                        s['label'] = deepcopy(d_annotate)\n",
    "                        \n",
    "        if kwargs['annotate'] == 'top':\n",
    "            series[-1]['label'] = d_annotate\n",
    "        # TODO: make annotate receive all kinds supported in echarts.\n",
    "    \n",
    "    if kwargs['type'] in ['bar','line']:\n",
    "       \n",
    "        \n",
    "        \n",
    "        def get_bar_line_data(df):\n",
    "            c._option['xAxis']['data'] = round_list(df[x].drop_duplicates())\n",
    "#             c._option['yAxis']['scale'] = True #TODO: Still need to be evaluated\n",
    "            \n",
    "            if y is None:\n",
    "                data = df[x].value_counts()\n",
    "            else:\n",
    "                data = (df[y]\n",
    "                        if kwargs['how'] is None else\n",
    "                        df.groupby(x)[y].aggregate(kwargs['how']))\n",
    "                    \n",
    "            # TODO: Still need to be evaluated\n",
    "#             data = (df[x].value_counts()\n",
    "#                     if y is None else\n",
    "#                     df.groupby(x)[y].aggregate(kwargs['how']))\n",
    "            \n",
    "            return data\n",
    "            \n",
    "        \n",
    "        insert_series_on(get_bar_line_data)\n",
    "        bar_line_hist_condition()\n",
    "            \n",
    "    elif kwargs['type'] == 'hist':\n",
    "        kwargs['type'] = 'bar'\n",
    "        \n",
    "        \n",
    "        def get_hist_data(df):\n",
    "            \n",
    "            y_val,x_val = np.histogram(df[x],\n",
    "                                       bins=kwargs['bins'],\n",
    "                                       normed=kwargs['normed'])\n",
    "            data = pd.Series(y_val)\n",
    "            bins = x_val.astype(int).tolist()\n",
    "            c._option['xAxis']['data'] = bins\n",
    "            \n",
    "            return data\n",
    "        \n",
    "        insert_series_on(get_hist_data)\n",
    "        bar_line_hist_condition()\n",
    "            \n",
    "    elif kwargs['type'] == 'scatter':\n",
    "        \n",
    "        c._option['xAxis'] = {'type': 'value',\n",
    "                              'name': x,\n",
    "                              'max': int(df[x].max())}\n",
    "        c._option['yAxis'] = {'type': 'value',\n",
    "                              'name': y,\n",
    "                              'max': int(df[y].max())}\n",
    "        c._option['visualMap'] = []\n",
    "        \n",
    "        \n",
    "        \n",
    "        cols = [x,y]\n",
    "        size = kwargs['size']\n",
    "        if size is not None:\n",
    "            vmap_template_size = {\n",
    "                                    'show': False,\n",
    "                                    'dimension': 2,\n",
    "                                    'min': 0,\n",
    "                                    'max': 250,\n",
    "                                    'precision': 0.1,\n",
    "                                    'inRange': {\n",
    "                                        'symbolSize': [10, 70]\n",
    "                                    }\n",
    "                                }\n",
    "            vmap_size = deepcopy(vmap_template_size)\n",
    "            vmap_size['min'] = df[size].min()\n",
    "            vmap_size['max'] = df[size].max()  \n",
    "            vmap_size['inRange']['symbolSize'] = list(kwargs['size_px'][:2])\n",
    "            c._option['visualMap'].append(vmap_size)\n",
    "            cols.append(size)\n",
    "        \n",
    "            \n",
    "        #TODO: Fix Saturate\n",
    "#          saturate = kwargs['saturate']\n",
    "#         if saturate is not None:\n",
    "#             vmap_saturate = deepcopy(visual_map_template)\n",
    "#             vmap_saturate['min'] = float(df[saturate].min())\n",
    "#             vmap_saturate['max'] = float(df[saturate].max())\n",
    "#             vmap_saturate['inRange']['colorLightness'] = [1,0.5]\n",
    "#             c._option['visualMap'].append(vmap_saturate)\n",
    "#             cols.append(saturate)\n",
    "\n",
    "        columns = cols+df.columns.difference(cols).tolist()\n",
    "        c._kwargs_chart_['columns'] = columns\n",
    "        \n",
    "        def get_scatter_data(df):\n",
    "            data = df[columns]\n",
    "#             print(columns)\n",
    "            return data\n",
    "        \n",
    "        insert_series_on(get_scatter_data)\n",
    "    \n",
    "        \n",
    "            \n",
    "    return c"
   ]
  },
  {
   "cell_type": "code",
   "execution_count": 35,
   "metadata": {
    "collapsed": false
   },
   "outputs": [
    {
     "data": {
      "text/plain": [
       "(10, 20)"
      ]
     },
     "execution_count": 35,
     "metadata": {},
     "output_type": "execute_result"
    }
   ],
   "source": [
    "(10,20,30)[:2]"
   ]
  },
  {
   "cell_type": "code",
   "execution_count": null,
   "metadata": {
    "collapsed": true
   },
   "outputs": [],
   "source": []
  },
  {
   "cell_type": "code",
   "execution_count": null,
   "metadata": {
    "collapsed": true
   },
   "outputs": [],
   "source": []
  },
  {
   "cell_type": "code",
   "execution_count": null,
   "metadata": {
    "collapsed": true
   },
   "outputs": [],
   "source": []
  },
  {
   "cell_type": "code",
   "execution_count": null,
   "metadata": {
    "collapsed": true
   },
   "outputs": [],
   "source": []
  },
  {
   "cell_type": "code",
   "execution_count": null,
   "metadata": {
    "collapsed": true
   },
   "outputs": [],
   "source": []
  },
  {
   "cell_type": "code",
   "execution_count": null,
   "metadata": {
    "collapsed": true
   },
   "outputs": [],
   "source": []
  },
  {
   "cell_type": "code",
   "execution_count": null,
   "metadata": {
    "collapsed": true
   },
   "outputs": [],
   "source": []
  },
  {
   "cell_type": "code",
   "execution_count": 235,
   "metadata": {
    "collapsed": false
   },
   "outputs": [
    {
     "ename": "AssertionError",
     "evalue": "",
     "output_type": "error",
     "traceback": [
      "\u001b[0;31m---------------------------------------------------------------------------\u001b[0m",
      "\u001b[0;31mAssertionError\u001b[0m                            Traceback (most recent call last)",
      "\u001b[0;32m<ipython-input-235-574c64d50655>\u001b[0m in \u001b[0;36m<module>\u001b[0;34m()\u001b[0m\n\u001b[1;32m     35\u001b[0m \u001b[0mtest_line\u001b[0m\u001b[0;34m(\u001b[0m\u001b[0;34m)\u001b[0m\u001b[0;34m\u001b[0m\u001b[0m\n\u001b[1;32m     36\u001b[0m \u001b[0mtest_hist\u001b[0m\u001b[0;34m(\u001b[0m\u001b[0;34m)\u001b[0m\u001b[0;34m\u001b[0m\u001b[0m\n\u001b[0;32m---> 37\u001b[0;31m \u001b[0mtest_scatter\u001b[0m\u001b[0;34m(\u001b[0m\u001b[0;34m)\u001b[0m\u001b[0;34m\u001b[0m\u001b[0m\n\u001b[0m",
      "\u001b[0;32m<ipython-input-235-574c64d50655>\u001b[0m in \u001b[0;36mtest_scatter\u001b[0;34m()\u001b[0m\n\u001b[1;32m     30\u001b[0m     \u001b[0mp\u001b[0m \u001b[0;34m=\u001b[0m \u001b[0mscatter\u001b[0m\u001b[0;34m(\u001b[0m\u001b[0mdf\u001b[0m\u001b[0;34m[\u001b[0m\u001b[0mdf\u001b[0m\u001b[0;34m.\u001b[0m\u001b[0myear\u001b[0m \u001b[0;34m==\u001b[0m \u001b[0;36m1952\u001b[0m\u001b[0;34m]\u001b[0m\u001b[0;34m,\u001b[0m\u001b[0;34m'lifeExp'\u001b[0m\u001b[0;34m,\u001b[0m\u001b[0;34m'gdpPercap'\u001b[0m\u001b[0;34m,\u001b[0m\u001b[0msize\u001b[0m\u001b[0;34m=\u001b[0m\u001b[0;34m'pop'\u001b[0m\u001b[0;34m,\u001b[0m\u001b[0mcategory\u001b[0m\u001b[0;34m=\u001b[0m\u001b[0;34m'continent'\u001b[0m\u001b[0;34m)\u001b[0m\u001b[0;34m\u001b[0m\u001b[0m\n\u001b[1;32m     31\u001b[0m \u001b[0;34m\u001b[0m\u001b[0m\n\u001b[0;32m---> 32\u001b[0;31m     \u001b[0;32massert\u001b[0m \u001b[0mp\u001b[0m\u001b[0;34m.\u001b[0m\u001b[0m_option\u001b[0m \u001b[0;34m==\u001b[0m \u001b[0mtrue_option\u001b[0m\u001b[0;34m\u001b[0m\u001b[0m\n\u001b[0m\u001b[1;32m     33\u001b[0m \u001b[0;34m\u001b[0m\u001b[0m\n\u001b[1;32m     34\u001b[0m \u001b[0mtest_bar\u001b[0m\u001b[0;34m(\u001b[0m\u001b[0;34m)\u001b[0m\u001b[0;34m\u001b[0m\u001b[0m\n",
      "\u001b[0;31mAssertionError\u001b[0m: "
     ]
    }
   ],
   "source": [
    "# %%file pandas-echarts/tests/test_option.py\n",
    "\n",
    "\n",
    "df = pd.read_csv('gapminderDataFiveYear.txt',sep='\\t')\n",
    "\n",
    "def test_bar():\n",
    "    \n",
    "    true_option = json.load(open('pandas-echarts/tests/data/bar_option.json','r'))\n",
    "    p = bar(df,'lifeExp',y='pop',category='continent',how='mean',stacked=True)\n",
    "    \n",
    "    assert p._option == true_option\n",
    "    \n",
    "def test_line():\n",
    "    \n",
    "    true_option = json.load(open('pandas-echarts/tests/data/line_option.json','r'))\n",
    "    p = line(df,'year',y='lifeExp',category='continent',how='mean',stacked=True,area=True)\n",
    "    \n",
    "    assert p._option == true_option\n",
    "    \n",
    "def test_hist():\n",
    "    \n",
    "    true_option = json.load(open('pandas-echarts/tests/data/hist_option.json','r'))\n",
    "    p = hist(df,'lifeExp',category='continent',bins=100,normed=True,stacked=True)\n",
    "    \n",
    "    assert p._option == true_option\n",
    "    \n",
    "def test_scatter():\n",
    "    \n",
    "    true_option = json.load(open('pandas-echarts/tests/data/scatter_option.json','r'))\n",
    "    p = scatter(df[df.year == 1952],'lifeExp','gdpPercap',size='pop',category='continent')\n",
    "    \n",
    "    assert p._option == true_option\n",
    "\n",
    "test_bar()\n",
    "test_line()\n",
    "test_hist()\n",
    "test_scatter()"
   ]
  },
  {
   "cell_type": "code",
   "execution_count": null,
   "metadata": {
    "collapsed": true
   },
   "outputs": [],
   "source": []
  },
  {
   "cell_type": "code",
   "execution_count": null,
   "metadata": {
    "collapsed": true
   },
   "outputs": [],
   "source": []
  },
  {
   "cell_type": "code",
   "execution_count": null,
   "metadata": {
    "collapsed": true
   },
   "outputs": [],
   "source": []
  },
  {
   "cell_type": "code",
   "execution_count": null,
   "metadata": {
    "collapsed": true
   },
   "outputs": [],
   "source": []
  },
  {
   "cell_type": "code",
   "execution_count": 39,
   "metadata": {
    "collapsed": true
   },
   "outputs": [],
   "source": [
    "from bokeh import colors\n",
    "from bokeh import palettes"
   ]
  },
  {
   "cell_type": "code",
   "execution_count": 23,
   "metadata": {
    "collapsed": true
   },
   "outputs": [],
   "source": [
    "true_option = json.load(open('pandas-echarts/tests/data/scatter_option.json','r'))"
   ]
  },
  {
   "cell_type": "code",
   "execution_count": 29,
   "metadata": {
    "collapsed": false
   },
   "outputs": [],
   "source": [
    "d = {}"
   ]
  },
  {
   "cell_type": "code",
   "execution_count": 30,
   "metadata": {
    "collapsed": true
   },
   "outputs": [],
   "source": [
    "d['label'] = {'name':'hellow'}"
   ]
  },
  {
   "cell_type": "code",
   "execution_count": null,
   "metadata": {
    "collapsed": true
   },
   "outputs": [],
   "source": []
  },
  {
   "cell_type": "code",
   "execution_count": null,
   "metadata": {
    "collapsed": true
   },
   "outputs": [],
   "source": []
  },
  {
   "cell_type": "code",
   "execution_count": null,
   "metadata": {
    "collapsed": true
   },
   "outputs": [],
   "source": []
  },
  {
   "cell_type": "code",
   "execution_count": 131,
   "metadata": {
    "collapsed": false
   },
   "outputs": [],
   "source": [
    "def foo(params):\n",
    "    \n",
    "    d.resync_data(df)\n",
    "    return \"Hello World\""
   ]
  },
  {
   "cell_type": "code",
   "execution_count": 132,
   "metadata": {
    "collapsed": false,
    "run_control": {
     "marked": false
    },
    "scrolled": true
   },
   "outputs": [
    {
     "data": {
      "application/javascript": [
       "\n",
       "$('#ec5f9646-0f4f-4f03-9217-532c4a631e91').attr('id','ec5f9646-0f4f-4f03-9217-532c4a631e91'+'_old');\n",
       "element.append('<div id=\"ec5f9646-0f4f-4f03-9217-532c4a631e91\" style=\"width: 600px;height:400px;\"></div>');\n",
       "require(['echarts', 'dark', 'vintage', 'roma', 'shine', 'infographic', 'macarons'],function(echarts){\n",
       "    var myChart = echarts.init(document.getElementById(\"ec5f9646-0f4f-4f03-9217-532c4a631e91\"),\"\");\n",
       "    myChart.setOption({\"tooltip\": {\"axisPointer\": {\"type\": \"\"}}, \"legend\": {\"data\": []}, \"yAxis\": {}, \"title\": {\"text\": \"\"}, \"xAxis\": {\"data\": [\"Asia\", \"Europe\", \"Africa\", \"Americas\", \"Oceania\"]}, \"series\": [{\"type\": \"bar\", \"data\": [624, 396, 360, 300, 24], \"name\": \"continent\"}]});\n",
       "    \n",
       "myChart.on('mouseover',function(params){\n",
       "\n",
       "    var d_params  = {'series':{'name':params.seriesName,'index':params.seriesIndex},\n",
       "    'data':{'value':params.value,'index':params.dataIndex,'name':params.name}\n",
       "    }\n",
       "    \n",
       "    console.log('data extracted: ');\n",
       "    console.log(d_params);\n",
       "    \n",
       "    // Create new Cell and execute function passed with parameters\n",
       "    var nb = Jupyter.notebook;\n",
       "    nb.insert_cell_below();\n",
       "    nb.select_next();\n",
       "    \n",
       "    var json_strings = JSON.stringify(d_params);\n",
       "\n",
       "    var cell = nb.get_selected_cell();\n",
       "    var code_input = \"foo(json.loads('\" + json_strings + \"'))\";\n",
       "    console.log(\"Executing code: \" + code_input);\n",
       "    cell.set_text(code_input);\n",
       "    cell.execute();\n",
       "    \n",
       "    \n",
       "    // Immediately delete the cell after execute\n",
       "    nb.delete_cell();\n",
       "    \n",
       "});\n",
       "\n",
       "\n",
       "myChart.on('click',function(params){\n",
       "\n",
       "    var d_params  = {'series':{'name':params.seriesName,'index':params.seriesIndex},\n",
       "    'data':{'value':params.value,'index':params.dataIndex,'name':params.name}\n",
       "    }\n",
       "    \n",
       "    console.log('data extracted: ');\n",
       "    console.log(d_params);\n",
       "    \n",
       "    // Create new Cell and execute function passed with parameters\n",
       "    var nb = Jupyter.notebook;\n",
       "    nb.insert_cell_below();\n",
       "    nb.select_next();\n",
       "    \n",
       "    var json_strings = JSON.stringify(d_params);\n",
       "\n",
       "    var cell = nb.get_selected_cell();\n",
       "    var code_input = \"foo(json.loads('\" + json_strings + \"'))\";\n",
       "    console.log(\"Executing code: \" + code_input);\n",
       "    cell.set_text(code_input);\n",
       "    cell.execute();\n",
       "    \n",
       "    \n",
       "    // Immediately delete the cell after execute\n",
       "    nb.delete_cell();\n",
       "    \n",
       "});\n",
       "\n",
       "});\n"
      ],
      "text/plain": [
       "<__main__.Chart at 0x106509eb8>"
      ]
     },
     "execution_count": 132,
     "metadata": {},
     "output_type": "execute_result"
    }
   ],
   "source": [
    "d = bar(df,x='continent')\n",
    "d.on_event('mouseover',foo)"
   ]
  },
  {
   "cell_type": "code",
   "execution_count": 48,
   "metadata": {
    "collapsed": false
   },
   "outputs": [
    {
     "data": {
      "text/plain": [
       "'4.1.1'"
      ]
     },
     "execution_count": 48,
     "metadata": {},
     "output_type": "execute_result"
    }
   ],
   "source": [
    "ipywidgets.__version__"
   ]
  },
  {
   "cell_type": "code",
   "execution_count": 85,
   "metadata": {
    "collapsed": false
   },
   "outputs": [],
   "source": [
    "# %%file krisk/tests/test_make_chart.py\n",
    "import pytest\n",
    "\n",
    "@pytest.fixture\n",
    "def chart_gapminder():\n",
    "    import pandas as pd\n",
    "    #from krisk import make_chart\n",
    "    df = pd.read_csv('../echarts/gapminderDataFiveYear.txt',sep='\\t')\n",
    "    return (line(df,x='year',category='continent',y='lifeExp',how='mean',area=True,stacked=True)\n",
    "             .set_theme('vintage')\n",
    "             .set_tooltip())\n",
    "\n",
    "\n",
    "def test_option(chart_gapminder):\n",
    "    import json\n",
    "    json_path ='krisk/tests/json_gapminder_line_year_continent_lifeExp_mean_area_stacked.json'\n",
    "    option = json.load(open(json_path,'r'))\n",
    "    assert option == chart_gapminder._option\n",
    "    \n",
    "test_option(chart_gapminder())"
   ]
  },
  {
   "cell_type": "markdown",
   "metadata": {},
   "source": [
    "# TODO\n",
    "\n",
    "Priority:\n",
    "\n",
    "1. Legend and Title DONE\n",
    "2. Tooltip DONE? Scatter"
   ]
  },
  {
   "cell_type": "markdown",
   "metadata": {},
   "source": [
    "to_html DONE"
   ]
  },
  {
   "cell_type": "markdown",
   "metadata": {},
   "source": [
    "set_toolbox"
   ]
  },
  {
   "cell_type": "markdown",
   "metadata": {},
   "source": [
    "set_figsize()"
   ]
  },
  {
   "cell_type": "markdown",
   "metadata": {},
   "source": [
    "refactor insert series DONE?"
   ]
  },
  {
   "cell_type": "markdown",
   "metadata": {},
   "source": [
    "set item_style"
   ]
  },
  {
   "cell_type": "markdown",
   "metadata": {},
   "source": [
    "self._data_columns = df.columns\n",
    "if update:\n",
    "    self._data.columns != df.columns"
   ]
  },
  {
   "cell_type": "markdown",
   "metadata": {},
   "source": [
    "set annotate = True DONE"
   ]
  },
  {
   "cell_type": "markdown",
   "metadata": {},
   "source": [
    "set ticks DONE?"
   ]
  },
  {
   "cell_type": "markdown",
   "metadata": {},
   "source": [
    "set_color(background=None,palletes=None) DONE?"
   ]
  },
  {
   "cell_type": "markdown",
   "metadata": {},
   "source": [
    " set_title(title,pos=('center','top')/'left and set_legend\n",
    "\n",
    "    'best'         : 0, (only implemented for axes legends)\n",
    "    'upper right'  : 1,\n",
    "    'upper left'   : 2,\n",
    "    'lower left'   : 3,\n",
    "    'lower right'  : 4,\n",
    "    'right'        : 5,\n",
    "    'center left'  : 6,\n",
    "    'center right' : 7,\n",
    "    'lower center' : 8,\n",
    "    'upper center' : 9,\n",
    "    'center'       : 10,"
   ]
  },
  {
   "cell_type": "markdown",
   "metadata": {},
   "source": [
    "## bar\n",
    "* http://echarts.baidu.com/demo.html#bar-y-category DONE\n",
    "* http://echarts.baidu.com/demo.html#bar-y-category-stack DONE\n",
    "\n",
    "## scatter\n",
    "* http://echarts.baidu.com/demo.html#scatter-aqi-color\n",
    "* http://echarts.baidu.com/demo.html#scatter-world-population\n",
    "* http://echarts.baidu.com/demo.html#scatter-life-expectancy-timeline\n",
    "\n",
    "## line\n",
    "* http://echarts.baidu.com/demo.html#dynamic-data2 DONE\n",
    "* http://echarts.baidu.com/demo.html#line-stack DONE\n",
    "* http://echarts.baidu.com/demo.html#area-stack DONE"
   ]
  },
  {
   "cell_type": "markdown",
   "metadata": {
    "collapsed": false
   },
   "source": [
    "## Histogram hist with category\n",
    "\n",
    "* http://echarts.baidu.com/demo.html#bar-animation-delay\n",
    "* http://echarts.baidu.com/demo.html#mix-line-bar DONE\n",
    "* http://echarts.baidu.com/demo.html#bar1(np.histogram, lose the markline and markpoint) DONE"
   ]
  },
  {
   "cell_type": "markdown",
   "metadata": {},
   "source": [
    "### POTENTIALLY BUG\n",
    "\n",
    "* callback for loading echarts"
   ]
  },
  {
   "cell_type": "markdown",
   "metadata": {},
   "source": [
    "# Testing Echarts"
   ]
  },
  {
   "cell_type": "code",
   "execution_count": 193,
   "metadata": {
    "collapsed": false
   },
   "outputs": [
    {
     "data": {
      "application/javascript": [
       "$('#main').remove()\n",
       "element.append('<div id=\"main\" style=\"width: 600px;height:400px;\"></div>');\n",
       "require(['echarts'],function(echarts){\n",
       "// 基于准备好的dom，初始化echarts实例\n",
       "    \n",
       "        var colorPalette = ['#d87c7c','#919e8b', '#d7ab82',  '#6e7074','#61a0a8','#efa18d', '#787464', '#cc7e63', '#724e58', '#4b565b'];\n",
       "        echarts.registerTheme('vintage', {\n",
       "            color: colorPalette,\n",
       "            backgroundColor: '#fef8ef',\n",
       "            graph: {\n",
       "                color: colorPalette\n",
       "            }\n",
       "        });\n",
       "\n",
       "        var myChart = echarts.init(document.getElementById('main'),'dark');\n",
       "\n",
       "        // 指定图表的配置项和数据\n",
       "        var option = {\n",
       "            title: {\n",
       "                text: 'ECharts 入门示例'\n",
       "            },\n",
       "            tooltip: {},\n",
       "            legend: {\n",
       "                data:['销量']\n",
       "            },\n",
       "            xAxis: {\n",
       "                data: [\"衬衫\",\"羊毛衫\",\"雪纺衫\",\"裤子\",\"高跟鞋\",\"袜子\"]\n",
       "            },\n",
       "            yAxis: {},\n",
       "            series: [{\n",
       "                name: '销量',\n",
       "                type: 'bar',\n",
       "                data: [5, 20, 36, 10, 10, 20]\n",
       "            }]\n",
       "        };\n",
       "\n",
       "        // 使用刚指定的配置项和数据显示图表。\n",
       "        myChart.setOption(option);\n",
       "});\n",
       "\n",
       "\"Hello World\""
      ],
      "text/plain": [
       "<IPython.core.display.Javascript object>"
      ]
     },
     "metadata": {},
     "output_type": "display_data"
    }
   ],
   "source": [
    "%%javascript\n",
    "$('#main').remove()\n",
    "element.append('<div id=\"main\" style=\"width: 600px;height:400px;\"></div>');\n",
    "require(['echarts'],function(echarts){\n",
    "// 基于准备好的dom，初始化echarts实例\n",
    "    \n",
    "        var colorPalette = ['#d87c7c','#919e8b', '#d7ab82',  '#6e7074','#61a0a8','#efa18d', '#787464', '#cc7e63', '#724e58', '#4b565b'];\n",
    "        echarts.registerTheme('vintage', {\n",
    "            color: colorPalette,\n",
    "            backgroundColor: '#fef8ef',\n",
    "            graph: {\n",
    "                color: colorPalette\n",
    "            }\n",
    "        });\n",
    "\n",
    "        var myChart = echarts.init(document.getElementById('main'),'dark');\n",
    "\n",
    "        // 指定图表的配置项和数据\n",
    "        var option = {\n",
    "            title: {\n",
    "                text: 'ECharts 入门示例'\n",
    "            },\n",
    "            tooltip: {},\n",
    "            legend: {\n",
    "                data:['销量']\n",
    "            },\n",
    "            xAxis: {\n",
    "                data: [\"衬衫\",\"羊毛衫\",\"雪纺衫\",\"裤子\",\"高跟鞋\",\"袜子\"]\n",
    "            },\n",
    "            yAxis: {},\n",
    "            series: [{\n",
    "                name: '销量',\n",
    "                type: 'bar',\n",
    "                data: [5, 20, 36, 10, 10, 20]\n",
    "            }]\n",
    "        };\n",
    "\n",
    "        // 使用刚指定的配置项和数据显示图表。\n",
    "        myChart.setOption(option);\n",
    "});\n",
    "\n",
    "\"Hello World\""
   ]
  },
  {
   "cell_type": "code",
   "execution_count": null,
   "metadata": {
    "collapsed": false
   },
   "outputs": [],
   "source": [
    "# import json\n",
    "# option = {\n",
    "#         'title': {\n",
    "#             'text': 'ECharts 入门示例'\n",
    "#         },\n",
    "#         'tooltip': {},\n",
    "#         'legend': {\n",
    "#             'data':['销量']\n",
    "#         },\n",
    "#         'xAxis': {\n",
    "#             'data': [\"衬衫\",\"羊毛衫\",\"雪纺衫\",\"裤子\",\"高跟鞋\",\"袜子\"]\n",
    "#         },\n",
    "#         'yAxis': {},\n",
    "#         'series': [{\n",
    "#             'name': '销量',\n",
    "#             'type': 'bar',\n",
    "#             'data': [20, 20, 36, 10, 10, 20]\n",
    "#         }]\n",
    "#     }\n",
    "# # Javascript(\"\"\"var option={}\"\"\".format(json.dumps(option)))"
   ]
  },
  {
   "cell_type": "code",
   "execution_count": 23,
   "metadata": {
    "collapsed": true
   },
   "outputs": [],
   "source": [
    "from bokeh.io import output_notebook"
   ]
  },
  {
   "cell_type": "code",
   "execution_count": null,
   "metadata": {
    "collapsed": true
   },
   "outputs": [],
   "source": []
  },
  {
   "cell_type": "code",
   "execution_count": null,
   "metadata": {
    "collapsed": true
   },
   "outputs": [],
   "source": []
  },
  {
   "cell_type": "code",
   "execution_count": null,
   "metadata": {
    "collapsed": true
   },
   "outputs": [],
   "source": []
  }
 ],
 "metadata": {
  "hide_input": false,
  "kernelspec": {
   "display_name": "Python 3",
   "language": "python",
   "name": "python3"
  },
  "language_info": {
   "codemirror_mode": {
    "name": "ipython",
    "version": 3
   },
   "file_extension": ".py",
   "mimetype": "text/x-python",
   "name": "python",
   "nbconvert_exporter": "python",
   "pygments_lexer": "ipython3",
   "version": "3.5.1"
  },
  "widgets": {
   "state": {
    "78F10FA4028E4B78866DE46AAB6C16A1": {
     "views": []
    }
   },
   "version": "1.1.2"
  }
 },
 "nbformat": 4,
 "nbformat_minor": 0
}
